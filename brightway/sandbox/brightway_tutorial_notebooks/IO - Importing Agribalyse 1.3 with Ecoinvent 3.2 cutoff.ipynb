{
 "cells": [
  {
   "cell_type": "markdown",
   "metadata": {},
   "source": [
    "# Import Agribalyse and link to ecoinvent 3.2 cutoff\n",
    "\n",
    "[Agribalyse](http://www.ademe.fr/en/expertise/alternative-approaches-to-production/agribalyse-program) is a French LCI database of agricultural products. It builds on top of ecoinvent 3.2. It was exported from SimaPro, so the names of ecoinvent processes are mangled, and need to be fixed back to standard ecoinvent.\n",
    "\n",
    "This notebook uses Agribalyse 1.3."
   ]
  },
  {
   "cell_type": "code",
   "execution_count": 6,
   "metadata": {},
   "outputs": [
    {
     "name": "stdout",
     "output_type": "stream",
     "text": [
      "Biosphere database already present!!! No setup is needed\n",
      "Database has already been imported.\n"
     ]
    }
   ],
   "source": [
    "import brightway2 as bw\n",
    "\n",
    "from custom_import_migrations import (\n",
    "    wfldb_technosphere_migration_data,\n",
    "    agb_technosphere_migration_data,\n",
    ")\n",
    "\n",
    "\n",
    "def main():\n",
    "    bw.projects.set_current(\"EF calculation\")\n",
    "    bw.bw2setup()\n",
    "\n",
    "    \"\"\"  # Ecoinvent\n",
    "        # del bw.databases['ecoinvent 3.8_cutoff']\n",
    "        if \"ecoinvent 3.8_cutoff\" in bw.databases:\n",
    "            print(\"Database has already been imported.\")\n",
    "        else:\n",
    "            fp_ei38cutoff = r\"../databases/ecoinvent 3.8_cutoff_ecoSpold02/datasets\"\n",
    "            ei35cut = bw.SingleOutputEcospold2Importer(\n",
    "                fp_ei38cutoff, \"ecoinvent 3.8_cutoff\", use_mp=False\n",
    "            )\n",
    "            ei35cut.apply_strategies()\n",
    "            ei35cut.statistics()\n",
    "            ei35cut.write_database()\n",
    "\n",
    "        if \"ecoinvent 3.8_conseq\" in bw.databases:\n",
    "            print(\"Database has already been imported.\")\n",
    "        else:\n",
    "            fp_ei38cutoff = r\"../databases/ecoinvent 3.8_consequential_ecoSpold02/datasets\"\n",
    "            ei35cut = bw.SingleOutputEcospold2Importer(\n",
    "                fp_ei38cutoff, \"ecoinvent 3.8_conseq\", use_mp=False\n",
    "            )\n",
    "            ei35cut.apply_strategies()\n",
    "            ei35cut.statistics()\n",
    "            ei35cut.write_database()\n",
    "    \"\"\"\n",
    "    # Agribalyse\n",
    "    # del bw.databases['agribalyse3']\n",
    "    if \"agribalyse3\" in bw.databases:\n",
    "        print(\"Database has already been imported.\")\n",
    "    else:\n",
    "        agb_csv_filepath = r\"./agribalyse3_no_param.CSV\"\n",
    "\n",
    "        agb_importer = bw.SimaProCSVImporter(agb_csv_filepath, \"agribalyse3\")\n",
    "\n",
    "        agb_technosphere_migration = bw.Migration(\"agb-technosphere\")\n",
    "        agb_technosphere_migration.write(\n",
    "            agb_technosphere_migration_data,\n",
    "            description=\"Specific technosphere fixes for Agribalyse 3\",\n",
    "        )\n",
    "\n",
    "        agb_importer.apply_strategies()\n",
    "        agb_importer.statistics()\n",
    "        agb_importer.migrate(\"agb-technosphere\")\n",
    "        \"\"\" agb_importer.match_database(\n",
    "            \"ecoinvent 3.8_cutoff\",\n",
    "            fields=(\"reference product\", \"location\", \"unit\", \"name\"),\n",
    "        ) \"\"\"\n",
    "        agb_importer.apply_strategies()\n",
    "        agb_importer.statistics()\n",
    "\n",
    "        # The only remaining unlinked exchanges are final waste flows and a land use change process. We will consider\n",
    "        # that they can be ignored.\n",
    "\n",
    "        agb_importer.add_unlinked_flows_to_biosphere_database()\n",
    "        agb_importer.add_unlinked_activities()\n",
    "        agb_importer.statistics()\n",
    "        agb_importer.write_database()\n",
    "\n",
    "    \"\"\" # WFLDB\n",
    "    # del bw.databases['WFLDB']\n",
    "    if \"WFLDB\" in bw.databases:\n",
    "        print(\"Database has already been imported.\")\n",
    "    else:\n",
    "        wfldb_csv_filepath = r\"../databases/WFLDB_no_param.CSV\"\n",
    "\n",
    "        wfldb_importer = bw.SimaProCSVImporter(wfldb_csv_filepath, \"WFLDB\")\n",
    "\n",
    "        wfldb_technosphere_migration = bw.Migration(\"wfldb-technosphere\")\n",
    "        wfldb_technosphere_migration.write(\n",
    "            wfldb_technosphere_migration_data,\n",
    "            description=\"Specific technosphere fixes for World Food DB\",\n",
    "        )\n",
    "\n",
    "        wfldb_importer.apply_strategies()\n",
    "        wfldb_importer.statistics()\n",
    "        wfldb_importer.migrate(\"wfldb-technosphere\")\n",
    "        wfldb_importer.apply_strategies()\n",
    "        wfldb_importer.statistics()\n",
    "\n",
    "        # The only unlinked process is Wastewater, average {CH}| treatment of, capacity 5E9l/year | Cut-off, S - Copied from ecoinvent\n",
    "        # But it is only used by an orphan process, so it is considered ok to ignore it.\n",
    "\n",
    "        wfldb_importer.add_unlinked_activities()\n",
    "        wfldb_importer.add_unlinked_flows_to_biosphere_database()\n",
    "        wfldb_importer.statistics()\n",
    "        wfldb_importer.write_database() \"\"\"\n",
    "\n",
    "\n",
    "if __name__ == \"__main__\":\n",
    "    main()\n"
   ]
  },
  {
   "cell_type": "code",
   "execution_count": 7,
   "metadata": {},
   "outputs": [
    {
     "data": {
      "text/plain": [
       "Databases dictionary with 2 object(s):\n",
       "\tagribalyse3\n",
       "\tbiosphere3"
      ]
     },
     "execution_count": 7,
     "metadata": {},
     "output_type": "execute_result"
    }
   ],
   "source": [
    "bw.databases"
   ]
  },
  {
   "cell_type": "code",
   "execution_count": 10,
   "metadata": {},
   "outputs": [],
   "source": [
    "from brightway2 import *"
   ]
  },
  {
   "cell_type": "markdown",
   "metadata": {},
   "source": [
    "Create a new project for this notebook"
   ]
  },
  {
   "cell_type": "code",
   "execution_count": 9,
   "metadata": {},
   "outputs": [],
   "source": [
    "projects.set_current(\"Agribalyse 1.3\")"
   ]
  },
  {
   "cell_type": "markdown",
   "metadata": {},
   "source": [
    "## Add biosphere flows\n",
    "\n",
    "Biosphere flow names follow the standard in ecoinvent 3.3. We will need to match these names to those in Agribalyse."
   ]
  },
  {
   "cell_type": "code",
   "execution_count": 2,
   "metadata": {},
   "outputs": [
    {
     "ename": "NameError",
     "evalue": "name 'bw2setup' is not defined",
     "output_type": "error",
     "traceback": [
      "\u001b[0;31m---------------------------------------------------------------------------\u001b[0m",
      "\u001b[0;31mNameError\u001b[0m                                 Traceback (most recent call last)",
      "Input \u001b[0;32mIn [2]\u001b[0m, in \u001b[0;36m<cell line: 1>\u001b[0;34m()\u001b[0m\n\u001b[0;32m----> 1\u001b[0m \u001b[43mbw2setup\u001b[49m()\n",
      "\u001b[0;31mNameError\u001b[0m: name 'bw2setup' is not defined"
     ]
    }
   ],
   "source": [
    "bw2setup()"
   ]
  },
  {
   "cell_type": "markdown",
   "metadata": {},
   "source": [
    "## Import ecoinvent 3.2 cutoff as background database"
   ]
  },
  {
   "cell_type": "code",
   "execution_count": 12,
   "metadata": {},
   "outputs": [
    {
     "data": {
      "text/plain": [
       "Databases dictionary with 1 object(s):\n",
       "\tbiosphere3"
      ]
     },
     "execution_count": 12,
     "metadata": {},
     "output_type": "execute_result"
    }
   ],
   "source": [
    "databases"
   ]
  },
  {
   "cell_type": "code",
   "execution_count": 5,
   "metadata": {},
   "outputs": [
    {
     "ename": "AssertionError",
     "evalue": "",
     "output_type": "error",
     "traceback": [
      "\u001b[0;31m---------------------------------------------------------------------------\u001b[0m",
      "\u001b[0;31mAssertionError\u001b[0m                            Traceback (most recent call last)",
      "Input \u001b[0;32mIn [5]\u001b[0m, in \u001b[0;36m<cell line: 2>\u001b[0;34m()\u001b[0m\n\u001b[1;32m      1\u001b[0m path \u001b[38;5;241m=\u001b[39m \u001b[38;5;124m\"\u001b[39m\u001b[38;5;124m/Users/cmutel/Documents/LCA Documents/Ecoinvent/3.2/cutoff/datasets\u001b[39m\u001b[38;5;124m\"\u001b[39m\n\u001b[0;32m----> 2\u001b[0m importer \u001b[38;5;241m=\u001b[39m \u001b[43mSingleOutputEcospold2Importer\u001b[49m\u001b[43m(\u001b[49m\u001b[43mpath\u001b[49m\u001b[43m,\u001b[49m\u001b[43m \u001b[49m\u001b[38;5;124;43m\"\u001b[39;49m\u001b[38;5;124;43mecoinvent 3.2 cutoff\u001b[39;49m\u001b[38;5;124;43m\"\u001b[39;49m\u001b[43m)\u001b[49m\n\u001b[1;32m      3\u001b[0m importer\u001b[38;5;241m.\u001b[39mapply_strategies()\n\u001b[1;32m      4\u001b[0m importer\u001b[38;5;241m.\u001b[39mstatistics()\n",
      "File \u001b[0;32m~/.local/share/virtualenvs/wikicarbone-data-3U72AueT/lib/python3.10/site-packages/bw2io/importers/ecospold2.py:71\u001b[0m, in \u001b[0;36mSingleOutputEcospold2Importer.__init__\u001b[0;34m(self, dirpath, db_name, extractor, use_mp, signal)\u001b[0m\n\u001b[1;32m     69\u001b[0m start \u001b[38;5;241m=\u001b[39m time()\n\u001b[1;32m     70\u001b[0m \u001b[38;5;28;01mtry\u001b[39;00m:\n\u001b[0;32m---> 71\u001b[0m     \u001b[38;5;28mself\u001b[39m\u001b[38;5;241m.\u001b[39mdata \u001b[38;5;241m=\u001b[39m \u001b[43mextractor\u001b[49m\u001b[38;5;241;43m.\u001b[39;49m\u001b[43mextract\u001b[49m\u001b[43m(\u001b[49m\u001b[43mdirpath\u001b[49m\u001b[43m,\u001b[49m\u001b[43m \u001b[49m\u001b[43mdb_name\u001b[49m\u001b[43m,\u001b[49m\u001b[43m \u001b[49m\u001b[43muse_mp\u001b[49m\u001b[38;5;241;43m=\u001b[39;49m\u001b[43muse_mp\u001b[49m\u001b[43m)\u001b[49m\n\u001b[1;32m     72\u001b[0m \u001b[38;5;28;01mexcept\u001b[39;00m \u001b[38;5;167;01mRuntimeError\u001b[39;00m \u001b[38;5;28;01mas\u001b[39;00m e:\n\u001b[1;32m     73\u001b[0m     \u001b[38;5;28;01mraise\u001b[39;00m MultiprocessingError(\n\u001b[1;32m     74\u001b[0m         \u001b[38;5;124m\"\u001b[39m\u001b[38;5;124mMultiprocessing error; re-run using `use_mp=False`\u001b[39m\u001b[38;5;124m\"\u001b[39m\n\u001b[1;32m     75\u001b[0m     )\u001b[38;5;241m.\u001b[39mwith_traceback(e\u001b[38;5;241m.\u001b[39m__traceback__)\n",
      "File \u001b[0;32m~/.local/share/virtualenvs/wikicarbone-data-3U72AueT/lib/python3.10/site-packages/bw2io/extractors/ecospold2.py:61\u001b[0m, in \u001b[0;36mEcospold2DataExtractor.extract\u001b[0;34m(cls, dirpath, db_name, use_mp)\u001b[0m\n\u001b[1;32m     59\u001b[0m \u001b[38;5;129m@classmethod\u001b[39m\n\u001b[1;32m     60\u001b[0m \u001b[38;5;28;01mdef\u001b[39;00m \u001b[38;5;21mextract\u001b[39m(\u001b[38;5;28mcls\u001b[39m, dirpath, db_name, use_mp\u001b[38;5;241m=\u001b[39m\u001b[38;5;28;01mTrue\u001b[39;00m):\n\u001b[0;32m---> 61\u001b[0m     \u001b[38;5;28;01massert\u001b[39;00m os\u001b[38;5;241m.\u001b[39mpath\u001b[38;5;241m.\u001b[39mexists(dirpath)\n\u001b[1;32m     62\u001b[0m     \u001b[38;5;28;01mif\u001b[39;00m os\u001b[38;5;241m.\u001b[39mpath\u001b[38;5;241m.\u001b[39misdir(dirpath):\n\u001b[1;32m     63\u001b[0m         filelist \u001b[38;5;241m=\u001b[39m [\n\u001b[1;32m     64\u001b[0m             filename\n\u001b[1;32m     65\u001b[0m             \u001b[38;5;28;01mfor\u001b[39;00m filename \u001b[38;5;129;01min\u001b[39;00m os\u001b[38;5;241m.\u001b[39mlistdir(dirpath)\n\u001b[1;32m     66\u001b[0m             \u001b[38;5;28;01mif\u001b[39;00m os\u001b[38;5;241m.\u001b[39mpath\u001b[38;5;241m.\u001b[39misfile(os\u001b[38;5;241m.\u001b[39mpath\u001b[38;5;241m.\u001b[39mjoin(dirpath, filename))\n\u001b[1;32m     67\u001b[0m             \u001b[38;5;129;01mand\u001b[39;00m filename\u001b[38;5;241m.\u001b[39msplit(\u001b[38;5;124m\"\u001b[39m\u001b[38;5;124m.\u001b[39m\u001b[38;5;124m\"\u001b[39m)[\u001b[38;5;241m-\u001b[39m\u001b[38;5;241m1\u001b[39m]\u001b[38;5;241m.\u001b[39mlower() \u001b[38;5;241m==\u001b[39m \u001b[38;5;124m\"\u001b[39m\u001b[38;5;124mspold\u001b[39m\u001b[38;5;124m\"\u001b[39m\n\u001b[1;32m     68\u001b[0m         ]\n",
      "\u001b[0;31mAssertionError\u001b[0m: "
     ]
    }
   ],
   "source": [
    "path = \"/Users/cmutel/Documents/LCA Documents/Ecoinvent/3.2/cutoff/datasets\"\n",
    "importer = SingleOutputEcospold2Importer(path, \"ecoinvent 3.2 cutoff\")\n",
    "importer.apply_strategies()\n",
    "importer.statistics()"
   ]
  },
  {
   "cell_type": "code",
   "execution_count": null,
   "metadata": {},
   "outputs": [],
   "source": [
    "importer.write_database()"
   ]
  },
  {
   "cell_type": "markdown",
   "metadata": {},
   "source": [
    "## Load Agribalyse data\n",
    "\n",
    "This notebook uses the SimaPro CSV version of Agribalyse."
   ]
  },
  {
   "cell_type": "code",
   "execution_count": 3,
   "metadata": {},
   "outputs": [
    {
     "name": "stdout",
     "output_type": "stream",
     "text": [
      "Extracted 1189 unallocated datasets in 5.21 seconds\n",
      "Applying strategy: normalize_units\n",
      "Applying strategy: assign_only_product_as_production\n",
      "Applying strategy: drop_unspecified_subcategories\n",
      "Applying strategy: sp_allocate_products\n",
      "Applying strategy: fix_zero_allocation_products\n",
      "Applying strategy: split_simapro_name_geo\n",
      "Applying strategy: strip_biosphere_exc_locations\n",
      "Applying strategy: migrate_datasets\n",
      "Applying strategy: migrate_exchanges\n",
      "Applying strategy: set_code_by_activity_hash\n",
      "Applying strategy: link_technosphere_based_on_name_unit_location\n",
      "Applying strategy: change_electricity_unit_mj_to_kwh\n",
      "Applying strategy: normalize_biosphere_categories\n",
      "Applying strategy: normalize_simapro_biosphere_categories\n",
      "Applying strategy: normalize_biosphere_names\n",
      "Applying strategy: normalize_simapro_biosphere_names\n",
      "Applying strategy: migrate_exchanges\n",
      "Applying strategy: fix_localized_water_flows\n",
      "Applying strategy: link_iterable_by_fields\n",
      "Applied 19 strategies in 4.46 seconds\n",
      "1261 datasets\n",
      "115259 exchanges\n",
      "9003 unlinked exchanges\n",
      "  Type biosphere: 460 unique unlinked exchanges\n",
      "  Type technosphere: 439 unique unlinked exchanges\n"
     ]
    },
    {
     "data": {
      "text/plain": [
       "(1261, 115259, 9003)"
      ]
     },
     "execution_count": 3,
     "metadata": {},
     "output_type": "execute_result"
    }
   ],
   "source": [
    "path = \"/Users/cmutel/Documents/LCA Documents/Agribalyse/1.3/Agribalyse CSV FINAL_no links_Nov2016v3.CSV\"\n",
    "ag = SimaProCSVImporter(path, \"Agribalyse 1.3\")\n",
    "ag.apply_strategies()\n",
    "ag.statistics()"
   ]
  },
  {
   "cell_type": "markdown",
   "metadata": {},
   "source": [
    "## Link to `ecoinvent 3.2`\n",
    "\n",
    "We start by changing the SimaPro names to what ecoinvent provides, as we are using the ecoinvent-provided version of 3.2. We can then match the unlinked inputs in `Agribalyse` against the outputs provided by `ecoinvent`."
   ]
  },
  {
   "cell_type": "code",
   "execution_count": 4,
   "metadata": {},
   "outputs": [
    {
     "name": "stdout",
     "output_type": "stream",
     "text": [
      "Applying strategy: migrate_datasets\n",
      "Applying strategy: migrate_exchanges\n"
     ]
    }
   ],
   "source": [
    "ag.migrate('simapro-ecoinvent-3.2')"
   ]
  },
  {
   "cell_type": "code",
   "execution_count": 5,
   "metadata": {},
   "outputs": [
    {
     "name": "stdout",
     "output_type": "stream",
     "text": [
      "Applying strategy: link_iterable_by_fields\n"
     ]
    }
   ],
   "source": [
    "ag.match_database(\"ecoinvent 3.2 cutoff\", fields=('reference product', 'location', 'unit', 'name'))"
   ]
  },
  {
   "cell_type": "code",
   "execution_count": 6,
   "metadata": {},
   "outputs": [
    {
     "name": "stdout",
     "output_type": "stream",
     "text": [
      "1261 datasets\n",
      "115259 exchanges\n",
      "2904 unlinked exchanges\n",
      "  Type biosphere: 460 unique unlinked exchanges\n",
      "  Type technosphere: 33 unique unlinked exchanges\n"
     ]
    },
    {
     "data": {
      "text/plain": [
       "(1261, 115259, 2904)"
      ]
     },
     "execution_count": 6,
     "metadata": {},
     "output_type": "execute_result"
    }
   ],
   "source": [
    "ag.statistics()"
   ]
  },
  {
   "cell_type": "markdown",
   "metadata": {},
   "source": [
    "Let's look at what we can't link. The easiest way is to export the unlinked exchanges to an Excel file."
   ]
  },
  {
   "cell_type": "code",
   "execution_count": 7,
   "metadata": {},
   "outputs": [
    {
     "name": "stdout",
     "output_type": "stream",
     "text": [
      "Wrote matching file to:\n",
      "/Users/cmutel/Library/Application Support/Brightway3/Agribalyse-13.a68c51d5c40982bcd21e1aa4ec805302/output/db-matching-Agribalyse-13-unlinked.xlsx\n"
     ]
    }
   ],
   "source": [
    "ag.write_excel(True)"
   ]
  },
  {
   "cell_type": "markdown",
   "metadata": {},
   "source": [
    "You can also [download this Excel file](https://docs.brightwaylca.org/_images/db-matching-Agribalyse-13-unlinked.xlsx)."
   ]
  },
  {
   "cell_type": "markdown",
   "metadata": {},
   "source": [
    "## Add unlinked biosphere flows\n",
    "\n",
    "Brightway2-IO 0.5.7 includes a lot of fixes to import Agribalyse more cleanly: [2a5406a](https://bitbucket.org/cmutel/brightway2-io/commits/2a5406ab9e12f72745a2efc90b7b4c696ade8717), [0154841](https://bitbucket.org/cmutel/brightway2-io/commits/01548417d69438c010e60431a0ca0cf44408a034), [b2d5545](https://bitbucket.org/cmutel/brightway2-io/commits/b2d55453b98f377cb8b1356c5326e9480fac24fa), [99b07b9](https://bitbucket.org/cmutel/brightway2-io/commits/99b07b9daaf8899c636c9aa51466bf833c51f106), [2129804](https://bitbucket.org/cmutel/brightway2-io/commits/2129804044f0503cf67a70d0841e0e1582530b99), [5d6b936](https://bitbucket.org/cmutel/brightway2-io/commits/5d6b9361f32c58cfaed19a6f3352d129eca1f806), and [5d0542a](https://bitbucket.org/cmutel/brightway2-io/commits/5d0542aee7f7ebe3aa418cbd0fac9ac696c0eb26).\n",
    "\n",
    "However, there are still a large number of biosphere flows not used in ecoinvent that we don't have in our `biosphere3` database (and, consequently, in our LCIA methods). The best we can do is to import these flows into another biosphere database. If these flows are important to you, you should do further matching or modify the relevant LCIA methods to include them."
   ]
  },
  {
   "cell_type": "code",
   "execution_count": 8,
   "metadata": {},
   "outputs": [
    {
     "name": "stderr",
     "output_type": "stream",
     "text": [
      "Writing activities to SQLite3 database:\n",
      "0%                          100%\n",
      "[##############################] | ETA[sec]: 0.751  | ETA[sec]: 0.411  | ETA[sec]: 0.288  | ETA[sec]: 0.224  | ETA[sec]: 0.188  | ETA[sec]: 0.166  | ETA[sec]: 0.145  | ETA[sec]: 0.130  | ETA[sec]: 0.176  | ETA[sec]: 0.155  | ETA[sec]: 0.140  | ETA[sec]: 0.126  | ETA[sec]: 0.114  | ETA[sec]: 0.103  | ETA[sec]: 0.093  | ETA[sec]: 0.083  | ETA[sec]: 0.086  | ETA[sec]: 0.078  | ETA[sec]: 0.069  | ETA[sec]: 0.061  | ETA[sec]: 0.054  | ETA[sec]: 0.047  | ETA[sec]: 0.040  | ETA[sec]: 0.033  | ETA[sec]: 0.029  | ETA[sec]: 0.023  | ETA[sec]: 0.017  | ETA[sec]: 0.011  | ETA[sec]: 0.005  | ETA[sec]: 0.000  | ETA[sec]: 0.000 \n",
      "Total time elapsed: 0.165 sec\n"
     ]
    },
    {
     "name": "stdout",
     "output_type": "stream",
     "text": [
      "Title: Writing activities to SQLite3 database:\n",
      "  Started: 01/12/2017 11:19:35\n",
      "  Finished: 01/12/2017 11:19:36\n",
      "  Total time elapsed: 0.165 sec\n",
      "  CPU %: 98.900000\n",
      "  Memory %: 1.443982\n",
      "Applying strategy: link_iterable_by_fields\n"
     ]
    }
   ],
   "source": [
    "Database(\"Agribalyse 1.3 new biosphere\").register()\n",
    "ag.add_unlinked_flows_to_biosphere_database(\"Agribalyse 1.3 new biosphere\")"
   ]
  },
  {
   "cell_type": "markdown",
   "metadata": {},
   "source": [
    "We should now have no unlinked biosphere flows:"
   ]
  },
  {
   "cell_type": "markdown",
   "metadata": {},
   "source": [
    "## Fixing units for passenger cars\n",
    "\n",
    "For some reason there are some links to `market for transport, passenger car, medium size, diesel, EURO 4` and `market for transport, passenger car, medium size, petrol, EURO 4` with units of meters (instead of person kilometers, as in ecoinvent). We can create a custom migration to handle these cases:"
   ]
  },
  {
   "cell_type": "code",
   "execution_count": 9,
   "metadata": {
    "collapsed": true
   },
   "outputs": [],
   "source": [
    "agribalyse_transport_data = {\n",
    "    'fields': ['name', 'unit'],\n",
    "    'data': [\n",
    "        (\n",
    "            ('market for transport, passenger car, medium size, diesel, EURO 4', 'meter'), \n",
    "            {\n",
    "                'unit': 'kilometer', \n",
    "                'multiplier': 1e-3\n",
    "            }\n",
    "        ),\n",
    "        (\n",
    "            ('market for transport, passenger car, medium size, petrol, EURO 4', 'meter'), \n",
    "            {\n",
    "                'unit': 'kilometer', \n",
    "                'multiplier': 1e-3\n",
    "            }\n",
    "        )\n",
    "    ]\n",
    "}\n",
    "\n",
    "Migration(\"agribalyse-transport\").write(\n",
    "    agribalyse_transport_data,\n",
    "    description=\"Fix some transport unit conversions\"\n",
    ")"
   ]
  },
  {
   "cell_type": "code",
   "execution_count": 10,
   "metadata": {},
   "outputs": [
    {
     "name": "stdout",
     "output_type": "stream",
     "text": [
      "Applying strategy: migrate_datasets\n",
      "Applying strategy: migrate_exchanges\n"
     ]
    }
   ],
   "source": [
    "ag.migrate(\"agribalyse-transport\")"
   ]
  },
  {
   "cell_type": "markdown",
   "metadata": {},
   "source": [
    "Link to ecoinvent again, to fix our now linkable transport inputs."
   ]
  },
  {
   "cell_type": "code",
   "execution_count": 11,
   "metadata": {},
   "outputs": [
    {
     "name": "stdout",
     "output_type": "stream",
     "text": [
      "Applying strategy: link_iterable_by_fields\n"
     ]
    }
   ],
   "source": [
    "ag.match_database(\"ecoinvent 3.2 cutoff\", fields=('reference product', 'location', 'unit', 'name'))"
   ]
  },
  {
   "cell_type": "code",
   "execution_count": 12,
   "metadata": {},
   "outputs": [
    {
     "name": "stdout",
     "output_type": "stream",
     "text": [
      "1261 datasets\n",
      "115259 exchanges\n",
      "113 unlinked exchanges\n",
      "  Type technosphere: 31 unique unlinked exchanges\n"
     ]
    },
    {
     "data": {
      "text/plain": [
       "(1261, 115259, 113)"
      ]
     },
     "execution_count": 12,
     "metadata": {},
     "output_type": "execute_result"
    }
   ],
   "source": [
    "ag.statistics()"
   ]
  },
  {
   "cell_type": "markdown",
   "metadata": {},
   "source": [
    "## Add waste treatment activities\n",
    "\n",
    "There are a number of unlinked waste flows. I am not sure on the best way to handle these, so we will try a very simple approach. We will just add these as new activities, without any other inputs or environmental effects."
   ]
  },
  {
   "cell_type": "code",
   "execution_count": 13,
   "metadata": {},
   "outputs": [
    {
     "name": "stdout",
     "output_type": "stream",
     "text": [
      "Applying strategy: link_iterable_by_fields\n",
      "1292 datasets\n",
      "115259 exchanges\n",
      "0 unlinked exchanges\n",
      "  \n"
     ]
    },
    {
     "data": {
      "text/plain": [
       "(1292, 115259, 0)"
      ]
     },
     "execution_count": 13,
     "metadata": {},
     "output_type": "execute_result"
    }
   ],
   "source": [
    "ag.add_unlinked_activities()\n",
    "ag.statistics()"
   ]
  },
  {
   "cell_type": "markdown",
   "metadata": {},
   "source": [
    "## Write the modified, fully linked database\n",
    "\n",
    "We are finished with the importing process."
   ]
  },
  {
   "cell_type": "code",
   "execution_count": 14,
   "metadata": {},
   "outputs": [
    {
     "name": "stderr",
     "output_type": "stream",
     "text": [
      "Writing activities to SQLite3 database:\n",
      "0%                          100%\n",
      "[##############################] | ETA[sec]: 2.333  | ETA[sec]: 4.123  | ETA[sec]: 7.568  | ETA[sec]: 6.914  | ETA[sec]: 7.082  | ETA[sec]: 7.498  | ETA[sec]: 8.129  | ETA[sec]: 7.346  | ETA[sec]: 6.489  | ETA[sec]: 6.087  | ETA[sec]: 5.413  | ETA[sec]: 5.082  | ETA[sec]: 5.265  | ETA[sec]: 4.997  | ETA[sec]: 4.681  | ETA[sec]: 4.413  | ETA[sec]: 4.098  | ETA[sec]: 4.154  | ETA[sec]: 3.783  | ETA[sec]: 3.362  | ETA[sec]: 3.115  | ETA[sec]: 2.671  | ETA[sec]: 2.331  | ETA[sec]: 1.975  | ETA[sec]: 1.623  | ETA[sec]: 1.311  | ETA[sec]: 0.996  | ETA[sec]: 0.656  | ETA[sec]: 0.328  | ETA[sec]: 0.000  | ETA[sec]: 0.000 \n",
      "Total time elapsed: 9.796 sec\n"
     ]
    },
    {
     "name": "stdout",
     "output_type": "stream",
     "text": [
      "Title: Writing activities to SQLite3 database:\n",
      "  Started: 01/12/2017 11:19:51\n",
      "  Finished: 01/12/2017 11:20:01\n",
      "  Total time elapsed: 9.796 sec\n",
      "  CPU %: 92.100000\n",
      "  Memory %: 1.472557\n",
      "Created database: Agribalyse 1.3\n"
     ]
    },
    {
     "data": {
      "text/plain": [
       "Brightway2 SQLiteBackend: Agribalyse 1.3"
      ]
     },
     "execution_count": 14,
     "metadata": {},
     "output_type": "execute_result"
    }
   ],
   "source": [
    "ag.write_database()"
   ]
  },
  {
   "cell_type": "markdown",
   "metadata": {},
   "source": [
    "## Checking the imported datasets\n",
    "\n",
    "We need to do some basic validation to make sure we have meaningful results. Here I just do some basic testing, but you should validate against known scores if you are frequently using this database. The following code is rahter simple and is not a real validation check."
   ]
  },
  {
   "cell_type": "code",
   "execution_count": 11,
   "metadata": {},
   "outputs": [
    {
     "data": {
      "text/plain": [
       "('IPCC 2013 no LT', 'climate change', 'GTP 100a')"
      ]
     },
     "execution_count": 11,
     "metadata": {},
     "output_type": "execute_result"
    }
   ],
   "source": [
    "gwp = [x for x in methods if \"IPCC 2013\" in str(x)][0]\n",
    "gwp"
   ]
  },
  {
   "cell_type": "code",
   "execution_count": 13,
   "metadata": {},
   "outputs": [
    {
     "data": {
      "text/plain": [
       "Databases dictionary with 2 object(s):\n",
       "\tagribalyse3\n",
       "\tbiosphere3"
      ]
     },
     "execution_count": 13,
     "metadata": {},
     "output_type": "execute_result"
    }
   ],
   "source": [
    "bw.databases"
   ]
  },
  {
   "cell_type": "code",
   "execution_count": 14,
   "metadata": {},
   "outputs": [
    {
     "data": {
      "text/plain": [
       "2.9212718156351434"
      ]
     },
     "execution_count": 14,
     "metadata": {},
     "output_type": "execute_result"
    }
   ],
   "source": [
    "db = Database(\"agribalyse3\")\n",
    "\n",
    "lca = LCA({db.random(): 1}, gwp)\n",
    "lca.lci(factorize=True)\n",
    "lca.lcia()\n",
    "lca.score"
   ]
  },
  {
   "cell_type": "markdown",
   "metadata": {},
   "source": [
    "Let's calculate the LCIA scores of all activities in Agribalyse"
   ]
  },
  {
   "cell_type": "code",
   "execution_count": 15,
   "metadata": {},
   "outputs": [
    {
     "name": "stderr",
     "output_type": "stream",
     "text": [
      "0% [##############################] 100% | ETA: 00:00:00\n",
      "Total time elapsed: 00:03:42\n"
     ]
    }
   ],
   "source": [
    "import pyprind\n",
    "\n",
    "scores = []\n",
    "\n",
    "for act in pyprind.prog_bar(db):\n",
    "    lca.redo_lcia({act: 1})\n",
    "    scores.append(lca.score)"
   ]
  },
  {
   "cell_type": "code",
   "execution_count": 16,
   "metadata": {},
   "outputs": [
    {
     "name": "stdout",
     "output_type": "stream",
     "text": [
      "Number of activities with zero GWP score: 454 of 16196\n"
     ]
    }
   ],
   "source": [
    "import numpy as np\n",
    "\n",
    "scores = np.array(scores)\n",
    "\n",
    "mask = scores == 0\n",
    "print(\"Number of activities with zero GWP score: {} of {}\".format(mask.sum(), len(db)))"
   ]
  },
  {
   "cell_type": "code",
   "execution_count": 17,
   "metadata": {},
   "outputs": [],
   "source": [
    "%matplotlib notebook"
   ]
  },
  {
   "cell_type": "code",
   "execution_count": 19,
   "metadata": {},
   "outputs": [],
   "source": [
    "import seaborn as sns"
   ]
  },
  {
   "cell_type": "code",
   "execution_count": 20,
   "metadata": {},
   "outputs": [
    {
     "name": "stderr",
     "output_type": "stream",
     "text": [
      "/Users/paulboosz/.local/share/virtualenvs/wikicarbone-data-3U72AueT/lib/python3.10/site-packages/seaborn/distributions.py:2619: FutureWarning: `distplot` is a deprecated function and will be removed in a future version. Please adapt your code to use either `displot` (a figure-level function with similar flexibility) or `histplot` (an axes-level function for histograms).\n",
      "  warnings.warn(msg, FutureWarning)\n"
     ]
    },
    {
     "data": {
      "application/javascript": [
       "/* Put everything inside the global mpl namespace */\n",
       "/* global mpl */\n",
       "window.mpl = {};\n",
       "\n",
       "mpl.get_websocket_type = function () {\n",
       "    if (typeof WebSocket !== 'undefined') {\n",
       "        return WebSocket;\n",
       "    } else if (typeof MozWebSocket !== 'undefined') {\n",
       "        return MozWebSocket;\n",
       "    } else {\n",
       "        alert(\n",
       "            'Your browser does not have WebSocket support. ' +\n",
       "                'Please try Chrome, Safari or Firefox ≥ 6. ' +\n",
       "                'Firefox 4 and 5 are also supported but you ' +\n",
       "                'have to enable WebSockets in about:config.'\n",
       "        );\n",
       "    }\n",
       "};\n",
       "\n",
       "mpl.figure = function (figure_id, websocket, ondownload, parent_element) {\n",
       "    this.id = figure_id;\n",
       "\n",
       "    this.ws = websocket;\n",
       "\n",
       "    this.supports_binary = this.ws.binaryType !== undefined;\n",
       "\n",
       "    if (!this.supports_binary) {\n",
       "        var warnings = document.getElementById('mpl-warnings');\n",
       "        if (warnings) {\n",
       "            warnings.style.display = 'block';\n",
       "            warnings.textContent =\n",
       "                'This browser does not support binary websocket messages. ' +\n",
       "                'Performance may be slow.';\n",
       "        }\n",
       "    }\n",
       "\n",
       "    this.imageObj = new Image();\n",
       "\n",
       "    this.context = undefined;\n",
       "    this.message = undefined;\n",
       "    this.canvas = undefined;\n",
       "    this.rubberband_canvas = undefined;\n",
       "    this.rubberband_context = undefined;\n",
       "    this.format_dropdown = undefined;\n",
       "\n",
       "    this.image_mode = 'full';\n",
       "\n",
       "    this.root = document.createElement('div');\n",
       "    this.root.setAttribute('style', 'display: inline-block');\n",
       "    this._root_extra_style(this.root);\n",
       "\n",
       "    parent_element.appendChild(this.root);\n",
       "\n",
       "    this._init_header(this);\n",
       "    this._init_canvas(this);\n",
       "    this._init_toolbar(this);\n",
       "\n",
       "    var fig = this;\n",
       "\n",
       "    this.waiting = false;\n",
       "\n",
       "    this.ws.onopen = function () {\n",
       "        fig.send_message('supports_binary', { value: fig.supports_binary });\n",
       "        fig.send_message('send_image_mode', {});\n",
       "        if (fig.ratio !== 1) {\n",
       "            fig.send_message('set_device_pixel_ratio', {\n",
       "                device_pixel_ratio: fig.ratio,\n",
       "            });\n",
       "        }\n",
       "        fig.send_message('refresh', {});\n",
       "    };\n",
       "\n",
       "    this.imageObj.onload = function () {\n",
       "        if (fig.image_mode === 'full') {\n",
       "            // Full images could contain transparency (where diff images\n",
       "            // almost always do), so we need to clear the canvas so that\n",
       "            // there is no ghosting.\n",
       "            fig.context.clearRect(0, 0, fig.canvas.width, fig.canvas.height);\n",
       "        }\n",
       "        fig.context.drawImage(fig.imageObj, 0, 0);\n",
       "    };\n",
       "\n",
       "    this.imageObj.onunload = function () {\n",
       "        fig.ws.close();\n",
       "    };\n",
       "\n",
       "    this.ws.onmessage = this._make_on_message_function(this);\n",
       "\n",
       "    this.ondownload = ondownload;\n",
       "};\n",
       "\n",
       "mpl.figure.prototype._init_header = function () {\n",
       "    var titlebar = document.createElement('div');\n",
       "    titlebar.classList =\n",
       "        'ui-dialog-titlebar ui-widget-header ui-corner-all ui-helper-clearfix';\n",
       "    var titletext = document.createElement('div');\n",
       "    titletext.classList = 'ui-dialog-title';\n",
       "    titletext.setAttribute(\n",
       "        'style',\n",
       "        'width: 100%; text-align: center; padding: 3px;'\n",
       "    );\n",
       "    titlebar.appendChild(titletext);\n",
       "    this.root.appendChild(titlebar);\n",
       "    this.header = titletext;\n",
       "};\n",
       "\n",
       "mpl.figure.prototype._canvas_extra_style = function (_canvas_div) {};\n",
       "\n",
       "mpl.figure.prototype._root_extra_style = function (_canvas_div) {};\n",
       "\n",
       "mpl.figure.prototype._init_canvas = function () {\n",
       "    var fig = this;\n",
       "\n",
       "    var canvas_div = (this.canvas_div = document.createElement('div'));\n",
       "    canvas_div.setAttribute(\n",
       "        'style',\n",
       "        'border: 1px solid #ddd;' +\n",
       "            'box-sizing: content-box;' +\n",
       "            'clear: both;' +\n",
       "            'min-height: 1px;' +\n",
       "            'min-width: 1px;' +\n",
       "            'outline: 0;' +\n",
       "            'overflow: hidden;' +\n",
       "            'position: relative;' +\n",
       "            'resize: both;'\n",
       "    );\n",
       "\n",
       "    function on_keyboard_event_closure(name) {\n",
       "        return function (event) {\n",
       "            return fig.key_event(event, name);\n",
       "        };\n",
       "    }\n",
       "\n",
       "    canvas_div.addEventListener(\n",
       "        'keydown',\n",
       "        on_keyboard_event_closure('key_press')\n",
       "    );\n",
       "    canvas_div.addEventListener(\n",
       "        'keyup',\n",
       "        on_keyboard_event_closure('key_release')\n",
       "    );\n",
       "\n",
       "    this._canvas_extra_style(canvas_div);\n",
       "    this.root.appendChild(canvas_div);\n",
       "\n",
       "    var canvas = (this.canvas = document.createElement('canvas'));\n",
       "    canvas.classList.add('mpl-canvas');\n",
       "    canvas.setAttribute('style', 'box-sizing: content-box;');\n",
       "\n",
       "    this.context = canvas.getContext('2d');\n",
       "\n",
       "    var backingStore =\n",
       "        this.context.backingStorePixelRatio ||\n",
       "        this.context.webkitBackingStorePixelRatio ||\n",
       "        this.context.mozBackingStorePixelRatio ||\n",
       "        this.context.msBackingStorePixelRatio ||\n",
       "        this.context.oBackingStorePixelRatio ||\n",
       "        this.context.backingStorePixelRatio ||\n",
       "        1;\n",
       "\n",
       "    this.ratio = (window.devicePixelRatio || 1) / backingStore;\n",
       "\n",
       "    var rubberband_canvas = (this.rubberband_canvas = document.createElement(\n",
       "        'canvas'\n",
       "    ));\n",
       "    rubberband_canvas.setAttribute(\n",
       "        'style',\n",
       "        'box-sizing: content-box; position: absolute; left: 0; top: 0; z-index: 1;'\n",
       "    );\n",
       "\n",
       "    // Apply a ponyfill if ResizeObserver is not implemented by browser.\n",
       "    if (this.ResizeObserver === undefined) {\n",
       "        if (window.ResizeObserver !== undefined) {\n",
       "            this.ResizeObserver = window.ResizeObserver;\n",
       "        } else {\n",
       "            var obs = _JSXTOOLS_RESIZE_OBSERVER({});\n",
       "            this.ResizeObserver = obs.ResizeObserver;\n",
       "        }\n",
       "    }\n",
       "\n",
       "    this.resizeObserverInstance = new this.ResizeObserver(function (entries) {\n",
       "        var nentries = entries.length;\n",
       "        for (var i = 0; i < nentries; i++) {\n",
       "            var entry = entries[i];\n",
       "            var width, height;\n",
       "            if (entry.contentBoxSize) {\n",
       "                if (entry.contentBoxSize instanceof Array) {\n",
       "                    // Chrome 84 implements new version of spec.\n",
       "                    width = entry.contentBoxSize[0].inlineSize;\n",
       "                    height = entry.contentBoxSize[0].blockSize;\n",
       "                } else {\n",
       "                    // Firefox implements old version of spec.\n",
       "                    width = entry.contentBoxSize.inlineSize;\n",
       "                    height = entry.contentBoxSize.blockSize;\n",
       "                }\n",
       "            } else {\n",
       "                // Chrome <84 implements even older version of spec.\n",
       "                width = entry.contentRect.width;\n",
       "                height = entry.contentRect.height;\n",
       "            }\n",
       "\n",
       "            // Keep the size of the canvas and rubber band canvas in sync with\n",
       "            // the canvas container.\n",
       "            if (entry.devicePixelContentBoxSize) {\n",
       "                // Chrome 84 implements new version of spec.\n",
       "                canvas.setAttribute(\n",
       "                    'width',\n",
       "                    entry.devicePixelContentBoxSize[0].inlineSize\n",
       "                );\n",
       "                canvas.setAttribute(\n",
       "                    'height',\n",
       "                    entry.devicePixelContentBoxSize[0].blockSize\n",
       "                );\n",
       "            } else {\n",
       "                canvas.setAttribute('width', width * fig.ratio);\n",
       "                canvas.setAttribute('height', height * fig.ratio);\n",
       "            }\n",
       "            canvas.setAttribute(\n",
       "                'style',\n",
       "                'width: ' + width + 'px; height: ' + height + 'px;'\n",
       "            );\n",
       "\n",
       "            rubberband_canvas.setAttribute('width', width);\n",
       "            rubberband_canvas.setAttribute('height', height);\n",
       "\n",
       "            // And update the size in Python. We ignore the initial 0/0 size\n",
       "            // that occurs as the element is placed into the DOM, which should\n",
       "            // otherwise not happen due to the minimum size styling.\n",
       "            if (fig.ws.readyState == 1 && width != 0 && height != 0) {\n",
       "                fig.request_resize(width, height);\n",
       "            }\n",
       "        }\n",
       "    });\n",
       "    this.resizeObserverInstance.observe(canvas_div);\n",
       "\n",
       "    function on_mouse_event_closure(name) {\n",
       "        return function (event) {\n",
       "            return fig.mouse_event(event, name);\n",
       "        };\n",
       "    }\n",
       "\n",
       "    rubberband_canvas.addEventListener(\n",
       "        'mousedown',\n",
       "        on_mouse_event_closure('button_press')\n",
       "    );\n",
       "    rubberband_canvas.addEventListener(\n",
       "        'mouseup',\n",
       "        on_mouse_event_closure('button_release')\n",
       "    );\n",
       "    rubberband_canvas.addEventListener(\n",
       "        'dblclick',\n",
       "        on_mouse_event_closure('dblclick')\n",
       "    );\n",
       "    // Throttle sequential mouse events to 1 every 20ms.\n",
       "    rubberband_canvas.addEventListener(\n",
       "        'mousemove',\n",
       "        on_mouse_event_closure('motion_notify')\n",
       "    );\n",
       "\n",
       "    rubberband_canvas.addEventListener(\n",
       "        'mouseenter',\n",
       "        on_mouse_event_closure('figure_enter')\n",
       "    );\n",
       "    rubberband_canvas.addEventListener(\n",
       "        'mouseleave',\n",
       "        on_mouse_event_closure('figure_leave')\n",
       "    );\n",
       "\n",
       "    canvas_div.addEventListener('wheel', function (event) {\n",
       "        if (event.deltaY < 0) {\n",
       "            event.step = 1;\n",
       "        } else {\n",
       "            event.step = -1;\n",
       "        }\n",
       "        on_mouse_event_closure('scroll')(event);\n",
       "    });\n",
       "\n",
       "    canvas_div.appendChild(canvas);\n",
       "    canvas_div.appendChild(rubberband_canvas);\n",
       "\n",
       "    this.rubberband_context = rubberband_canvas.getContext('2d');\n",
       "    this.rubberband_context.strokeStyle = '#000000';\n",
       "\n",
       "    this._resize_canvas = function (width, height, forward) {\n",
       "        if (forward) {\n",
       "            canvas_div.style.width = width + 'px';\n",
       "            canvas_div.style.height = height + 'px';\n",
       "        }\n",
       "    };\n",
       "\n",
       "    // Disable right mouse context menu.\n",
       "    this.rubberband_canvas.addEventListener('contextmenu', function (_e) {\n",
       "        event.preventDefault();\n",
       "        return false;\n",
       "    });\n",
       "\n",
       "    function set_focus() {\n",
       "        canvas.focus();\n",
       "        canvas_div.focus();\n",
       "    }\n",
       "\n",
       "    window.setTimeout(set_focus, 100);\n",
       "};\n",
       "\n",
       "mpl.figure.prototype._init_toolbar = function () {\n",
       "    var fig = this;\n",
       "\n",
       "    var toolbar = document.createElement('div');\n",
       "    toolbar.classList = 'mpl-toolbar';\n",
       "    this.root.appendChild(toolbar);\n",
       "\n",
       "    function on_click_closure(name) {\n",
       "        return function (_event) {\n",
       "            return fig.toolbar_button_onclick(name);\n",
       "        };\n",
       "    }\n",
       "\n",
       "    function on_mouseover_closure(tooltip) {\n",
       "        return function (event) {\n",
       "            if (!event.currentTarget.disabled) {\n",
       "                return fig.toolbar_button_onmouseover(tooltip);\n",
       "            }\n",
       "        };\n",
       "    }\n",
       "\n",
       "    fig.buttons = {};\n",
       "    var buttonGroup = document.createElement('div');\n",
       "    buttonGroup.classList = 'mpl-button-group';\n",
       "    for (var toolbar_ind in mpl.toolbar_items) {\n",
       "        var name = mpl.toolbar_items[toolbar_ind][0];\n",
       "        var tooltip = mpl.toolbar_items[toolbar_ind][1];\n",
       "        var image = mpl.toolbar_items[toolbar_ind][2];\n",
       "        var method_name = mpl.toolbar_items[toolbar_ind][3];\n",
       "\n",
       "        if (!name) {\n",
       "            /* Instead of a spacer, we start a new button group. */\n",
       "            if (buttonGroup.hasChildNodes()) {\n",
       "                toolbar.appendChild(buttonGroup);\n",
       "            }\n",
       "            buttonGroup = document.createElement('div');\n",
       "            buttonGroup.classList = 'mpl-button-group';\n",
       "            continue;\n",
       "        }\n",
       "\n",
       "        var button = (fig.buttons[name] = document.createElement('button'));\n",
       "        button.classList = 'mpl-widget';\n",
       "        button.setAttribute('role', 'button');\n",
       "        button.setAttribute('aria-disabled', 'false');\n",
       "        button.addEventListener('click', on_click_closure(method_name));\n",
       "        button.addEventListener('mouseover', on_mouseover_closure(tooltip));\n",
       "\n",
       "        var icon_img = document.createElement('img');\n",
       "        icon_img.src = '_images/' + image + '.png';\n",
       "        icon_img.srcset = '_images/' + image + '_large.png 2x';\n",
       "        icon_img.alt = tooltip;\n",
       "        button.appendChild(icon_img);\n",
       "\n",
       "        buttonGroup.appendChild(button);\n",
       "    }\n",
       "\n",
       "    if (buttonGroup.hasChildNodes()) {\n",
       "        toolbar.appendChild(buttonGroup);\n",
       "    }\n",
       "\n",
       "    var fmt_picker = document.createElement('select');\n",
       "    fmt_picker.classList = 'mpl-widget';\n",
       "    toolbar.appendChild(fmt_picker);\n",
       "    this.format_dropdown = fmt_picker;\n",
       "\n",
       "    for (var ind in mpl.extensions) {\n",
       "        var fmt = mpl.extensions[ind];\n",
       "        var option = document.createElement('option');\n",
       "        option.selected = fmt === mpl.default_extension;\n",
       "        option.innerHTML = fmt;\n",
       "        fmt_picker.appendChild(option);\n",
       "    }\n",
       "\n",
       "    var status_bar = document.createElement('span');\n",
       "    status_bar.classList = 'mpl-message';\n",
       "    toolbar.appendChild(status_bar);\n",
       "    this.message = status_bar;\n",
       "};\n",
       "\n",
       "mpl.figure.prototype.request_resize = function (x_pixels, y_pixels) {\n",
       "    // Request matplotlib to resize the figure. Matplotlib will then trigger a resize in the client,\n",
       "    // which will in turn request a refresh of the image.\n",
       "    this.send_message('resize', { width: x_pixels, height: y_pixels });\n",
       "};\n",
       "\n",
       "mpl.figure.prototype.send_message = function (type, properties) {\n",
       "    properties['type'] = type;\n",
       "    properties['figure_id'] = this.id;\n",
       "    this.ws.send(JSON.stringify(properties));\n",
       "};\n",
       "\n",
       "mpl.figure.prototype.send_draw_message = function () {\n",
       "    if (!this.waiting) {\n",
       "        this.waiting = true;\n",
       "        this.ws.send(JSON.stringify({ type: 'draw', figure_id: this.id }));\n",
       "    }\n",
       "};\n",
       "\n",
       "mpl.figure.prototype.handle_save = function (fig, _msg) {\n",
       "    var format_dropdown = fig.format_dropdown;\n",
       "    var format = format_dropdown.options[format_dropdown.selectedIndex].value;\n",
       "    fig.ondownload(fig, format);\n",
       "};\n",
       "\n",
       "mpl.figure.prototype.handle_resize = function (fig, msg) {\n",
       "    var size = msg['size'];\n",
       "    if (size[0] !== fig.canvas.width || size[1] !== fig.canvas.height) {\n",
       "        fig._resize_canvas(size[0], size[1], msg['forward']);\n",
       "        fig.send_message('refresh', {});\n",
       "    }\n",
       "};\n",
       "\n",
       "mpl.figure.prototype.handle_rubberband = function (fig, msg) {\n",
       "    var x0 = msg['x0'] / fig.ratio;\n",
       "    var y0 = (fig.canvas.height - msg['y0']) / fig.ratio;\n",
       "    var x1 = msg['x1'] / fig.ratio;\n",
       "    var y1 = (fig.canvas.height - msg['y1']) / fig.ratio;\n",
       "    x0 = Math.floor(x0) + 0.5;\n",
       "    y0 = Math.floor(y0) + 0.5;\n",
       "    x1 = Math.floor(x1) + 0.5;\n",
       "    y1 = Math.floor(y1) + 0.5;\n",
       "    var min_x = Math.min(x0, x1);\n",
       "    var min_y = Math.min(y0, y1);\n",
       "    var width = Math.abs(x1 - x0);\n",
       "    var height = Math.abs(y1 - y0);\n",
       "\n",
       "    fig.rubberband_context.clearRect(\n",
       "        0,\n",
       "        0,\n",
       "        fig.canvas.width / fig.ratio,\n",
       "        fig.canvas.height / fig.ratio\n",
       "    );\n",
       "\n",
       "    fig.rubberband_context.strokeRect(min_x, min_y, width, height);\n",
       "};\n",
       "\n",
       "mpl.figure.prototype.handle_figure_label = function (fig, msg) {\n",
       "    // Updates the figure title.\n",
       "    fig.header.textContent = msg['label'];\n",
       "};\n",
       "\n",
       "mpl.figure.prototype.handle_cursor = function (fig, msg) {\n",
       "    fig.rubberband_canvas.style.cursor = msg['cursor'];\n",
       "};\n",
       "\n",
       "mpl.figure.prototype.handle_message = function (fig, msg) {\n",
       "    fig.message.textContent = msg['message'];\n",
       "};\n",
       "\n",
       "mpl.figure.prototype.handle_draw = function (fig, _msg) {\n",
       "    // Request the server to send over a new figure.\n",
       "    fig.send_draw_message();\n",
       "};\n",
       "\n",
       "mpl.figure.prototype.handle_image_mode = function (fig, msg) {\n",
       "    fig.image_mode = msg['mode'];\n",
       "};\n",
       "\n",
       "mpl.figure.prototype.handle_history_buttons = function (fig, msg) {\n",
       "    for (var key in msg) {\n",
       "        if (!(key in fig.buttons)) {\n",
       "            continue;\n",
       "        }\n",
       "        fig.buttons[key].disabled = !msg[key];\n",
       "        fig.buttons[key].setAttribute('aria-disabled', !msg[key]);\n",
       "    }\n",
       "};\n",
       "\n",
       "mpl.figure.prototype.handle_navigate_mode = function (fig, msg) {\n",
       "    if (msg['mode'] === 'PAN') {\n",
       "        fig.buttons['Pan'].classList.add('active');\n",
       "        fig.buttons['Zoom'].classList.remove('active');\n",
       "    } else if (msg['mode'] === 'ZOOM') {\n",
       "        fig.buttons['Pan'].classList.remove('active');\n",
       "        fig.buttons['Zoom'].classList.add('active');\n",
       "    } else {\n",
       "        fig.buttons['Pan'].classList.remove('active');\n",
       "        fig.buttons['Zoom'].classList.remove('active');\n",
       "    }\n",
       "};\n",
       "\n",
       "mpl.figure.prototype.updated_canvas_event = function () {\n",
       "    // Called whenever the canvas gets updated.\n",
       "    this.send_message('ack', {});\n",
       "};\n",
       "\n",
       "// A function to construct a web socket function for onmessage handling.\n",
       "// Called in the figure constructor.\n",
       "mpl.figure.prototype._make_on_message_function = function (fig) {\n",
       "    return function socket_on_message(evt) {\n",
       "        if (evt.data instanceof Blob) {\n",
       "            var img = evt.data;\n",
       "            if (img.type !== 'image/png') {\n",
       "                /* FIXME: We get \"Resource interpreted as Image but\n",
       "                 * transferred with MIME type text/plain:\" errors on\n",
       "                 * Chrome.  But how to set the MIME type?  It doesn't seem\n",
       "                 * to be part of the websocket stream */\n",
       "                img.type = 'image/png';\n",
       "            }\n",
       "\n",
       "            /* Free the memory for the previous frames */\n",
       "            if (fig.imageObj.src) {\n",
       "                (window.URL || window.webkitURL).revokeObjectURL(\n",
       "                    fig.imageObj.src\n",
       "                );\n",
       "            }\n",
       "\n",
       "            fig.imageObj.src = (window.URL || window.webkitURL).createObjectURL(\n",
       "                img\n",
       "            );\n",
       "            fig.updated_canvas_event();\n",
       "            fig.waiting = false;\n",
       "            return;\n",
       "        } else if (\n",
       "            typeof evt.data === 'string' &&\n",
       "            evt.data.slice(0, 21) === 'data:image/png;base64'\n",
       "        ) {\n",
       "            fig.imageObj.src = evt.data;\n",
       "            fig.updated_canvas_event();\n",
       "            fig.waiting = false;\n",
       "            return;\n",
       "        }\n",
       "\n",
       "        var msg = JSON.parse(evt.data);\n",
       "        var msg_type = msg['type'];\n",
       "\n",
       "        // Call the  \"handle_{type}\" callback, which takes\n",
       "        // the figure and JSON message as its only arguments.\n",
       "        try {\n",
       "            var callback = fig['handle_' + msg_type];\n",
       "        } catch (e) {\n",
       "            console.log(\n",
       "                \"No handler for the '\" + msg_type + \"' message type: \",\n",
       "                msg\n",
       "            );\n",
       "            return;\n",
       "        }\n",
       "\n",
       "        if (callback) {\n",
       "            try {\n",
       "                // console.log(\"Handling '\" + msg_type + \"' message: \", msg);\n",
       "                callback(fig, msg);\n",
       "            } catch (e) {\n",
       "                console.log(\n",
       "                    \"Exception inside the 'handler_\" + msg_type + \"' callback:\",\n",
       "                    e,\n",
       "                    e.stack,\n",
       "                    msg\n",
       "                );\n",
       "            }\n",
       "        }\n",
       "    };\n",
       "};\n",
       "\n",
       "// from https://stackoverflow.com/questions/1114465/getting-mouse-location-in-canvas\n",
       "mpl.findpos = function (e) {\n",
       "    //this section is from http://www.quirksmode.org/js/events_properties.html\n",
       "    var targ;\n",
       "    if (!e) {\n",
       "        e = window.event;\n",
       "    }\n",
       "    if (e.target) {\n",
       "        targ = e.target;\n",
       "    } else if (e.srcElement) {\n",
       "        targ = e.srcElement;\n",
       "    }\n",
       "    if (targ.nodeType === 3) {\n",
       "        // defeat Safari bug\n",
       "        targ = targ.parentNode;\n",
       "    }\n",
       "\n",
       "    // pageX,Y are the mouse positions relative to the document\n",
       "    var boundingRect = targ.getBoundingClientRect();\n",
       "    var x = e.pageX - (boundingRect.left + document.body.scrollLeft);\n",
       "    var y = e.pageY - (boundingRect.top + document.body.scrollTop);\n",
       "\n",
       "    return { x: x, y: y };\n",
       "};\n",
       "\n",
       "/*\n",
       " * return a copy of an object with only non-object keys\n",
       " * we need this to avoid circular references\n",
       " * https://stackoverflow.com/a/24161582/3208463\n",
       " */\n",
       "function simpleKeys(original) {\n",
       "    return Object.keys(original).reduce(function (obj, key) {\n",
       "        if (typeof original[key] !== 'object') {\n",
       "            obj[key] = original[key];\n",
       "        }\n",
       "        return obj;\n",
       "    }, {});\n",
       "}\n",
       "\n",
       "mpl.figure.prototype.mouse_event = function (event, name) {\n",
       "    var canvas_pos = mpl.findpos(event);\n",
       "\n",
       "    if (name === 'button_press') {\n",
       "        this.canvas.focus();\n",
       "        this.canvas_div.focus();\n",
       "    }\n",
       "\n",
       "    var x = canvas_pos.x * this.ratio;\n",
       "    var y = canvas_pos.y * this.ratio;\n",
       "\n",
       "    this.send_message(name, {\n",
       "        x: x,\n",
       "        y: y,\n",
       "        button: event.button,\n",
       "        step: event.step,\n",
       "        guiEvent: simpleKeys(event),\n",
       "    });\n",
       "\n",
       "    /* This prevents the web browser from automatically changing to\n",
       "     * the text insertion cursor when the button is pressed.  We want\n",
       "     * to control all of the cursor setting manually through the\n",
       "     * 'cursor' event from matplotlib */\n",
       "    event.preventDefault();\n",
       "    return false;\n",
       "};\n",
       "\n",
       "mpl.figure.prototype._key_event_extra = function (_event, _name) {\n",
       "    // Handle any extra behaviour associated with a key event\n",
       "};\n",
       "\n",
       "mpl.figure.prototype.key_event = function (event, name) {\n",
       "    // Prevent repeat events\n",
       "    if (name === 'key_press') {\n",
       "        if (event.key === this._key) {\n",
       "            return;\n",
       "        } else {\n",
       "            this._key = event.key;\n",
       "        }\n",
       "    }\n",
       "    if (name === 'key_release') {\n",
       "        this._key = null;\n",
       "    }\n",
       "\n",
       "    var value = '';\n",
       "    if (event.ctrlKey && event.key !== 'Control') {\n",
       "        value += 'ctrl+';\n",
       "    }\n",
       "    else if (event.altKey && event.key !== 'Alt') {\n",
       "        value += 'alt+';\n",
       "    }\n",
       "    else if (event.shiftKey && event.key !== 'Shift') {\n",
       "        value += 'shift+';\n",
       "    }\n",
       "\n",
       "    value += 'k' + event.key;\n",
       "\n",
       "    this._key_event_extra(event, name);\n",
       "\n",
       "    this.send_message(name, { key: value, guiEvent: simpleKeys(event) });\n",
       "    return false;\n",
       "};\n",
       "\n",
       "mpl.figure.prototype.toolbar_button_onclick = function (name) {\n",
       "    if (name === 'download') {\n",
       "        this.handle_save(this, null);\n",
       "    } else {\n",
       "        this.send_message('toolbar_button', { name: name });\n",
       "    }\n",
       "};\n",
       "\n",
       "mpl.figure.prototype.toolbar_button_onmouseover = function (tooltip) {\n",
       "    this.message.textContent = tooltip;\n",
       "};\n",
       "\n",
       "///////////////// REMAINING CONTENT GENERATED BY embed_js.py /////////////////\n",
       "// prettier-ignore\n",
       "var _JSXTOOLS_RESIZE_OBSERVER=function(A){var t,i=new WeakMap,n=new WeakMap,a=new WeakMap,r=new WeakMap,o=new Set;function s(e){if(!(this instanceof s))throw new TypeError(\"Constructor requires 'new' operator\");i.set(this,e)}function h(){throw new TypeError(\"Function is not a constructor\")}function c(e,t,i,n){e=0 in arguments?Number(arguments[0]):0,t=1 in arguments?Number(arguments[1]):0,i=2 in arguments?Number(arguments[2]):0,n=3 in arguments?Number(arguments[3]):0,this.right=(this.x=this.left=e)+(this.width=i),this.bottom=(this.y=this.top=t)+(this.height=n),Object.freeze(this)}function d(){t=requestAnimationFrame(d);var s=new WeakMap,p=new Set;o.forEach((function(t){r.get(t).forEach((function(i){var r=t instanceof window.SVGElement,o=a.get(t),d=r?0:parseFloat(o.paddingTop),f=r?0:parseFloat(o.paddingRight),l=r?0:parseFloat(o.paddingBottom),u=r?0:parseFloat(o.paddingLeft),g=r?0:parseFloat(o.borderTopWidth),m=r?0:parseFloat(o.borderRightWidth),w=r?0:parseFloat(o.borderBottomWidth),b=u+f,F=d+l,v=(r?0:parseFloat(o.borderLeftWidth))+m,W=g+w,y=r?0:t.offsetHeight-W-t.clientHeight,E=r?0:t.offsetWidth-v-t.clientWidth,R=b+v,z=F+W,M=r?t.width:parseFloat(o.width)-R-E,O=r?t.height:parseFloat(o.height)-z-y;if(n.has(t)){var k=n.get(t);if(k[0]===M&&k[1]===O)return}n.set(t,[M,O]);var S=Object.create(h.prototype);S.target=t,S.contentRect=new c(u,d,M,O),s.has(i)||(s.set(i,[]),p.add(i)),s.get(i).push(S)}))})),p.forEach((function(e){i.get(e).call(e,s.get(e),e)}))}return s.prototype.observe=function(i){if(i instanceof window.Element){r.has(i)||(r.set(i,new Set),o.add(i),a.set(i,window.getComputedStyle(i)));var n=r.get(i);n.has(this)||n.add(this),cancelAnimationFrame(t),t=requestAnimationFrame(d)}},s.prototype.unobserve=function(i){if(i instanceof window.Element&&r.has(i)){var n=r.get(i);n.has(this)&&(n.delete(this),n.size||(r.delete(i),o.delete(i))),n.size||r.delete(i),o.size||cancelAnimationFrame(t)}},A.DOMRectReadOnly=c,A.ResizeObserver=s,A.ResizeObserverEntry=h,A}; // eslint-disable-line\n",
       "mpl.toolbar_items = [[\"Home\", \"Reset original view\", \"fa fa-home icon-home\", \"home\"], [\"Back\", \"Back to previous view\", \"fa fa-arrow-left icon-arrow-left\", \"back\"], [\"Forward\", \"Forward to next view\", \"fa fa-arrow-right icon-arrow-right\", \"forward\"], [\"\", \"\", \"\", \"\"], [\"Pan\", \"Left button pans, Right button zooms\\nx/y fixes axis, CTRL fixes aspect\", \"fa fa-arrows icon-move\", \"pan\"], [\"Zoom\", \"Zoom to rectangle\\nx/y fixes axis\", \"fa fa-square-o icon-check-empty\", \"zoom\"], [\"\", \"\", \"\", \"\"], [\"Download\", \"Download plot\", \"fa fa-floppy-o icon-save\", \"download\"]];\n",
       "\n",
       "mpl.extensions = [\"eps\", \"jpeg\", \"pgf\", \"pdf\", \"png\", \"ps\", \"raw\", \"svg\", \"tif\"];\n",
       "\n",
       "mpl.default_extension = \"png\";/* global mpl */\n",
       "\n",
       "var comm_websocket_adapter = function (comm) {\n",
       "    // Create a \"websocket\"-like object which calls the given IPython comm\n",
       "    // object with the appropriate methods. Currently this is a non binary\n",
       "    // socket, so there is still some room for performance tuning.\n",
       "    var ws = {};\n",
       "\n",
       "    ws.binaryType = comm.kernel.ws.binaryType;\n",
       "    ws.readyState = comm.kernel.ws.readyState;\n",
       "    function updateReadyState(_event) {\n",
       "        if (comm.kernel.ws) {\n",
       "            ws.readyState = comm.kernel.ws.readyState;\n",
       "        } else {\n",
       "            ws.readyState = 3; // Closed state.\n",
       "        }\n",
       "    }\n",
       "    comm.kernel.ws.addEventListener('open', updateReadyState);\n",
       "    comm.kernel.ws.addEventListener('close', updateReadyState);\n",
       "    comm.kernel.ws.addEventListener('error', updateReadyState);\n",
       "\n",
       "    ws.close = function () {\n",
       "        comm.close();\n",
       "    };\n",
       "    ws.send = function (m) {\n",
       "        //console.log('sending', m);\n",
       "        comm.send(m);\n",
       "    };\n",
       "    // Register the callback with on_msg.\n",
       "    comm.on_msg(function (msg) {\n",
       "        //console.log('receiving', msg['content']['data'], msg);\n",
       "        var data = msg['content']['data'];\n",
       "        if (data['blob'] !== undefined) {\n",
       "            data = {\n",
       "                data: new Blob(msg['buffers'], { type: data['blob'] }),\n",
       "            };\n",
       "        }\n",
       "        // Pass the mpl event to the overridden (by mpl) onmessage function.\n",
       "        ws.onmessage(data);\n",
       "    });\n",
       "    return ws;\n",
       "};\n",
       "\n",
       "mpl.mpl_figure_comm = function (comm, msg) {\n",
       "    // This is the function which gets called when the mpl process\n",
       "    // starts-up an IPython Comm through the \"matplotlib\" channel.\n",
       "\n",
       "    var id = msg.content.data.id;\n",
       "    // Get hold of the div created by the display call when the Comm\n",
       "    // socket was opened in Python.\n",
       "    var element = document.getElementById(id);\n",
       "    var ws_proxy = comm_websocket_adapter(comm);\n",
       "\n",
       "    function ondownload(figure, _format) {\n",
       "        window.open(figure.canvas.toDataURL());\n",
       "    }\n",
       "\n",
       "    var fig = new mpl.figure(id, ws_proxy, ondownload, element);\n",
       "\n",
       "    // Call onopen now - mpl needs it, as it is assuming we've passed it a real\n",
       "    // web socket which is closed, not our websocket->open comm proxy.\n",
       "    ws_proxy.onopen();\n",
       "\n",
       "    fig.parent_element = element;\n",
       "    fig.cell_info = mpl.find_output_cell(\"<div id='\" + id + \"'></div>\");\n",
       "    if (!fig.cell_info) {\n",
       "        console.error('Failed to find cell for figure', id, fig);\n",
       "        return;\n",
       "    }\n",
       "    fig.cell_info[0].output_area.element.on(\n",
       "        'cleared',\n",
       "        { fig: fig },\n",
       "        fig._remove_fig_handler\n",
       "    );\n",
       "};\n",
       "\n",
       "mpl.figure.prototype.handle_close = function (fig, msg) {\n",
       "    var width = fig.canvas.width / fig.ratio;\n",
       "    fig.cell_info[0].output_area.element.off(\n",
       "        'cleared',\n",
       "        fig._remove_fig_handler\n",
       "    );\n",
       "    fig.resizeObserverInstance.unobserve(fig.canvas_div);\n",
       "\n",
       "    // Update the output cell to use the data from the current canvas.\n",
       "    fig.push_to_output();\n",
       "    var dataURL = fig.canvas.toDataURL();\n",
       "    // Re-enable the keyboard manager in IPython - without this line, in FF,\n",
       "    // the notebook keyboard shortcuts fail.\n",
       "    IPython.keyboard_manager.enable();\n",
       "    fig.parent_element.innerHTML =\n",
       "        '<img src=\"' + dataURL + '\" width=\"' + width + '\">';\n",
       "    fig.close_ws(fig, msg);\n",
       "};\n",
       "\n",
       "mpl.figure.prototype.close_ws = function (fig, msg) {\n",
       "    fig.send_message('closing', msg);\n",
       "    // fig.ws.close()\n",
       "};\n",
       "\n",
       "mpl.figure.prototype.push_to_output = function (_remove_interactive) {\n",
       "    // Turn the data on the canvas into data in the output cell.\n",
       "    var width = this.canvas.width / this.ratio;\n",
       "    var dataURL = this.canvas.toDataURL();\n",
       "    this.cell_info[1]['text/html'] =\n",
       "        '<img src=\"' + dataURL + '\" width=\"' + width + '\">';\n",
       "};\n",
       "\n",
       "mpl.figure.prototype.updated_canvas_event = function () {\n",
       "    // Tell IPython that the notebook contents must change.\n",
       "    IPython.notebook.set_dirty(true);\n",
       "    this.send_message('ack', {});\n",
       "    var fig = this;\n",
       "    // Wait a second, then push the new image to the DOM so\n",
       "    // that it is saved nicely (might be nice to debounce this).\n",
       "    setTimeout(function () {\n",
       "        fig.push_to_output();\n",
       "    }, 1000);\n",
       "};\n",
       "\n",
       "mpl.figure.prototype._init_toolbar = function () {\n",
       "    var fig = this;\n",
       "\n",
       "    var toolbar = document.createElement('div');\n",
       "    toolbar.classList = 'btn-toolbar';\n",
       "    this.root.appendChild(toolbar);\n",
       "\n",
       "    function on_click_closure(name) {\n",
       "        return function (_event) {\n",
       "            return fig.toolbar_button_onclick(name);\n",
       "        };\n",
       "    }\n",
       "\n",
       "    function on_mouseover_closure(tooltip) {\n",
       "        return function (event) {\n",
       "            if (!event.currentTarget.disabled) {\n",
       "                return fig.toolbar_button_onmouseover(tooltip);\n",
       "            }\n",
       "        };\n",
       "    }\n",
       "\n",
       "    fig.buttons = {};\n",
       "    var buttonGroup = document.createElement('div');\n",
       "    buttonGroup.classList = 'btn-group';\n",
       "    var button;\n",
       "    for (var toolbar_ind in mpl.toolbar_items) {\n",
       "        var name = mpl.toolbar_items[toolbar_ind][0];\n",
       "        var tooltip = mpl.toolbar_items[toolbar_ind][1];\n",
       "        var image = mpl.toolbar_items[toolbar_ind][2];\n",
       "        var method_name = mpl.toolbar_items[toolbar_ind][3];\n",
       "\n",
       "        if (!name) {\n",
       "            /* Instead of a spacer, we start a new button group. */\n",
       "            if (buttonGroup.hasChildNodes()) {\n",
       "                toolbar.appendChild(buttonGroup);\n",
       "            }\n",
       "            buttonGroup = document.createElement('div');\n",
       "            buttonGroup.classList = 'btn-group';\n",
       "            continue;\n",
       "        }\n",
       "\n",
       "        button = fig.buttons[name] = document.createElement('button');\n",
       "        button.classList = 'btn btn-default';\n",
       "        button.href = '#';\n",
       "        button.title = name;\n",
       "        button.innerHTML = '<i class=\"fa ' + image + ' fa-lg\"></i>';\n",
       "        button.addEventListener('click', on_click_closure(method_name));\n",
       "        button.addEventListener('mouseover', on_mouseover_closure(tooltip));\n",
       "        buttonGroup.appendChild(button);\n",
       "    }\n",
       "\n",
       "    if (buttonGroup.hasChildNodes()) {\n",
       "        toolbar.appendChild(buttonGroup);\n",
       "    }\n",
       "\n",
       "    // Add the status bar.\n",
       "    var status_bar = document.createElement('span');\n",
       "    status_bar.classList = 'mpl-message pull-right';\n",
       "    toolbar.appendChild(status_bar);\n",
       "    this.message = status_bar;\n",
       "\n",
       "    // Add the close button to the window.\n",
       "    var buttongrp = document.createElement('div');\n",
       "    buttongrp.classList = 'btn-group inline pull-right';\n",
       "    button = document.createElement('button');\n",
       "    button.classList = 'btn btn-mini btn-primary';\n",
       "    button.href = '#';\n",
       "    button.title = 'Stop Interaction';\n",
       "    button.innerHTML = '<i class=\"fa fa-power-off icon-remove icon-large\"></i>';\n",
       "    button.addEventListener('click', function (_evt) {\n",
       "        fig.handle_close(fig, {});\n",
       "    });\n",
       "    button.addEventListener(\n",
       "        'mouseover',\n",
       "        on_mouseover_closure('Stop Interaction')\n",
       "    );\n",
       "    buttongrp.appendChild(button);\n",
       "    var titlebar = this.root.querySelector('.ui-dialog-titlebar');\n",
       "    titlebar.insertBefore(buttongrp, titlebar.firstChild);\n",
       "};\n",
       "\n",
       "mpl.figure.prototype._remove_fig_handler = function (event) {\n",
       "    var fig = event.data.fig;\n",
       "    if (event.target !== this) {\n",
       "        // Ignore bubbled events from children.\n",
       "        return;\n",
       "    }\n",
       "    fig.close_ws(fig, {});\n",
       "};\n",
       "\n",
       "mpl.figure.prototype._root_extra_style = function (el) {\n",
       "    el.style.boxSizing = 'content-box'; // override notebook setting of border-box.\n",
       "};\n",
       "\n",
       "mpl.figure.prototype._canvas_extra_style = function (el) {\n",
       "    // this is important to make the div 'focusable\n",
       "    el.setAttribute('tabindex', 0);\n",
       "    // reach out to IPython and tell the keyboard manager to turn it's self\n",
       "    // off when our div gets focus\n",
       "\n",
       "    // location in version 3\n",
       "    if (IPython.notebook.keyboard_manager) {\n",
       "        IPython.notebook.keyboard_manager.register_events(el);\n",
       "    } else {\n",
       "        // location in version 2\n",
       "        IPython.keyboard_manager.register_events(el);\n",
       "    }\n",
       "};\n",
       "\n",
       "mpl.figure.prototype._key_event_extra = function (event, _name) {\n",
       "    // Check for shift+enter\n",
       "    if (event.shiftKey && event.which === 13) {\n",
       "        this.canvas_div.blur();\n",
       "        // select the cell after this one\n",
       "        var index = IPython.notebook.find_cell_index(this.cell_info[0]);\n",
       "        IPython.notebook.select(index + 1);\n",
       "    }\n",
       "};\n",
       "\n",
       "mpl.figure.prototype.handle_save = function (fig, _msg) {\n",
       "    fig.ondownload(fig, null);\n",
       "};\n",
       "\n",
       "mpl.find_output_cell = function (html_output) {\n",
       "    // Return the cell and output element which can be found *uniquely* in the notebook.\n",
       "    // Note - this is a bit hacky, but it is done because the \"notebook_saving.Notebook\"\n",
       "    // IPython event is triggered only after the cells have been serialised, which for\n",
       "    // our purposes (turning an active figure into a static one), is too late.\n",
       "    var cells = IPython.notebook.get_cells();\n",
       "    var ncells = cells.length;\n",
       "    for (var i = 0; i < ncells; i++) {\n",
       "        var cell = cells[i];\n",
       "        if (cell.cell_type === 'code') {\n",
       "            for (var j = 0; j < cell.output_area.outputs.length; j++) {\n",
       "                var data = cell.output_area.outputs[j];\n",
       "                if (data.data) {\n",
       "                    // IPython >= 3 moved mimebundle to data attribute of output\n",
       "                    data = data.data;\n",
       "                }\n",
       "                if (data['text/html'] === html_output) {\n",
       "                    return [cell, data, j];\n",
       "                }\n",
       "            }\n",
       "        }\n",
       "    }\n",
       "};\n",
       "\n",
       "// Register the function which deals with the matplotlib target/channel.\n",
       "// The kernel may be null if the page has been refreshed.\n",
       "if (IPython.notebook.kernel !== null) {\n",
       "    IPython.notebook.kernel.comm_manager.register_target(\n",
       "        'matplotlib',\n",
       "        mpl.mpl_figure_comm\n",
       "    );\n",
       "}\n"
      ],
      "text/plain": [
       "<IPython.core.display.Javascript object>"
      ]
     },
     "metadata": {},
     "output_type": "display_data"
    },
    {
     "data": {
      "text/html": [
       "<img src=\"data:image/png;base64,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\" width=\"640\">"
      ],
      "text/plain": [
       "<IPython.core.display.HTML object>"
      ]
     },
     "metadata": {},
     "output_type": "display_data"
    },
    {
     "data": {
      "text/plain": [
       "<AxesSubplot:ylabel='Density'>"
      ]
     },
     "execution_count": 20,
     "metadata": {},
     "output_type": "execute_result"
    }
   ],
   "source": [
    "sns.distplot(np.log(scores[scores > 0]))"
   ]
  },
  {
   "cell_type": "markdown",
   "metadata": {},
   "source": [
    "## Conclusion\n",
    "\n",
    "We have imported the Agribalyse database. In the process of importing, we found and resolved several problems:\n",
    "\n",
    "1. First, we had to fix the names and categories of biosphere flow names, to make them compatible with the names and categories used in ecoinvent version 3.\n",
    "2. We linked inputs to activities in ecoinvent 3.2.\n",
    "3. Next, we created a new database for the new biosphere flows that we couldn't match.\n",
    "4. We added unlinked activities to our database.\n",
    "5. We fixed allocated products with zero production values.\n",
    "\n",
    "This was a bit of a pain, but this is the sad truth of LCA data compatibility - it currently isn't all that great."
   ]
  },
  {
   "cell_type": "code",
   "execution_count": null,
   "metadata": {
    "collapsed": true
   },
   "outputs": [],
   "source": []
  }
 ],
 "metadata": {
  "kernelspec": {
   "display_name": "Python 3 (ipykernel)",
   "language": "python",
   "name": "python3"
  },
  "language_info": {
   "codemirror_mode": {
    "name": "ipython",
    "version": 3
   },
   "file_extension": ".py",
   "mimetype": "text/x-python",
   "name": "python",
   "nbconvert_exporter": "python",
   "pygments_lexer": "ipython3",
   "version": "3.10.0"
  }
 },
 "nbformat": 4,
 "nbformat_minor": 1
}
