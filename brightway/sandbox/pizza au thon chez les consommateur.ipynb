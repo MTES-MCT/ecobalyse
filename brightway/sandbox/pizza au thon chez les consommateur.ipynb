{
 "cells": [
  {
   "cell_type": "markdown",
   "metadata": {},
   "source": [
    "# Calcul d'impact d'une pizza au thon"
   ]
  },
  {
   "cell_type": "markdown",
   "metadata": {},
   "source": [
    "## Setup"
   ]
  },
  {
   "cell_type": "markdown",
   "metadata": {},
   "source": [
    "Import des librairies de base"
   ]
  },
  {
   "cell_type": "code",
   "execution_count": 1,
   "metadata": {},
   "outputs": [],
   "source": [
    "import os\n",
    "import matplotlib.pyplot as plt\n",
    "import numpy as np\n",
    "import pandas as pd\n",
    "import brightway2 as bw\n",
    "from brightway2 import *\n",
    "from bw2data.parameters import ActivityParameter, DatabaseParameter, ProjectParameter, Group\n",
    "from pprint import pprint"
   ]
  },
  {
   "cell_type": "markdown",
   "metadata": {},
   "source": [
    "Setup du projet suite à l'exécution du script `importing_databases.py`"
   ]
  },
  {
   "cell_type": "code",
   "execution_count": 2,
   "metadata": {},
   "outputs": [
    {
     "name": "stdout",
     "output_type": "stream",
     "text": [
      "Biosphere database already present!!! No setup is needed\n"
     ]
    }
   ],
   "source": [
    "# list(bw.projects)\n",
    "bw.projects.set_current(\"EF calculation\")\n",
    "bw.bw2setup()\n",
    "agb = Database(\"agribalyse3\")"
   ]
  },
  {
   "cell_type": "markdown",
   "metadata": {},
   "source": [
    "Utilitaires"
   ]
  },
  {
   "cell_type": "code",
   "execution_count": 3,
   "metadata": {},
   "outputs": [],
   "source": [
    "#climate_change = ('EF v3.0', 'climate change', 'global warming potential (GWP100)')\n",
    "climate_change = ('EF v3.0 no LT', 'climate change no LT', 'global warming potential (GWP100) no LT')\n",
    "\n",
    "def search_one(query):\n",
    "    results = agb.search(query)\n",
    "    if len(results) == 1:\n",
    "        return results[0]\n",
    "    else:\n",
    "        filtered = list(filter(lambda activity: activity[\"name\"] == query, results))\n",
    "        assert len(filtered) == 1, f\"search_one({query}) didn't return a single result: {results}\"\n",
    "        return results[0]\n",
    "\n",
    "def get_demand(exchange, amount):\n",
    "    activity = search_one(exchange[\"name\"])\n",
    "\n",
    "    return {activity: amount}\n",
    "\n",
    "def list_impacts(activity, amount):\n",
    "    for exchange in activity.technosphere():        \n",
    "        updated_amount = exchange[\"amount\"] * amount        \n",
    "        demand = get_demand(exchange, updated_amount)\n",
    "        lca = LCA(demand, climate_change)\n",
    "        lca.lci()\n",
    "        lca.lcia()\n",
    "        print(\"*\",updated_amount, exchange[\"unit\"], exchange.input, \"==>\", lca.score)"
   ]
  },
  {
   "cell_type": "markdown",
   "metadata": {},
   "source": [
    "## La pizza au thon"
   ]
  },
  {
   "cell_type": "markdown",
   "metadata": {},
   "source": [
    "Sélection d'une \"activité\" à explorer : la pizza au thon"
   ]
  },
  {
   "cell_type": "code",
   "execution_count": 4,
   "metadata": {
    "scrolled": true
   },
   "outputs": [
    {
     "name": "stdout",
     "output_type": "stream",
     "text": [
      "5 results\n",
      "['Pizza, tuna, at plant' (kilogram, FR, None),\n",
      " 'Pizza, tuna, processed in FR | Chilled | Cardboard | at distribution/FR' (kilogram, None, None),\n",
      " 'Pizza, tuna, processed in FR | Chilled | Cardboard | at packaging/FR' (kilogram, None, None),\n",
      " 'Pizza, tuna, processed in FR | Chilled | Cardboard | at supermarket/FR' (kilogram, None, None),\n",
      " 'Pizza, tuna, processed in FR | Chilled | Cardboard | Oven | at consumer/FR [Ciqual code: 26270]' (kilogram, None, None)]\n"
     ]
    }
   ],
   "source": [
    "tuna_pizza_search = agb.search(\"tuna pizza\")\n",
    "print(f\"{len(tuna_pizza_search)} results\")\n",
    "pprint(tuna_pizza_search)"
   ]
  },
  {
   "cell_type": "markdown",
   "metadata": {},
   "source": [
    "Chaque produit passe par les 5 étapes suivante dans l'ordre :\n",
    "\n",
    "- at plant (la recette)\n",
    "- at packaging (conditionnement)\n",
    "- at distribution (stockage)\n",
    "- at supermarket (vente au détail)\n",
    "- at consumer (consommation)"
   ]
  },
  {
   "cell_type": "markdown",
   "metadata": {},
   "source": [
    "# Automation"
   ]
  },
  {
   "cell_type": "code",
   "execution_count": null,
   "metadata": {},
   "outputs": [
    {
     "name": "stdout",
     "output_type": "stream",
     "text": [
      ">>>> 1kg Pizza, tuna, processed in FR | Chilled | Cardboard | Oven | at consumer/FR [Ciqual code: 26270]\n",
      "Total score: 2.633650099935815\n",
      "\n",
      "* 1.0 kilogram 'Pizza, tuna, processed in FR | Chilled | Cardboard | at supermarket/FR' (kilogram, None, None) ==> 2.5661586639277627\n",
      "* 0.0777 kilowatt hour 'Electricity, low voltage {FR}| market for | Cut-off, S - Copied from Ecoinvent' (kilowatt hour, None, None) ==> 0.004799317179400998\n",
      "* 1.0 kilowatt hour 'Electricity, low voltage {FR}| market for | Cut-off, S - Copied from Ecoinvent' (kilowatt hour, None, None) ==> 0.06176727386616523\n",
      "* 0.0018000000000000002 ton kilometer 'Transport, freight, lorry 16-32 metric ton, EURO5 {RER}| transport, freight, lorry 16-32 metric ton, EURO5 | Cut-off, S - Copied from Ecoinvent' (ton kilometer, None, None) ==> 0.0002992019577656287\n",
      "* 0.065 kilogram 'Paper (waste treatment) {GLO}| recycling of paper | Cut-off, S - Copied from Ecoinvent' (kilogram, None, None) ==> 0.0\n",
      "* 0.01575 kilogram 'Waste paperboard {CH}| treatment of, inert material landfill | Cut-off, S - Copied from Ecoinvent' (kilogram, None, None) ==> 6.797336488042196e-05\n",
      "* 0.01925 kilogram 'Waste paperboard {CH}| treatment of, municipal incineration with fly ash extraction | Cut-off, S - Copied from Ecoinvent' (kilogram, None, None) ==> 0.0005576698611778324\n",
      "\n",
      ">>>> 1.0kg Pizza, tuna, processed in FR | Chilled | Cardboard | at supermarket/FR\n",
      "Total score: 2.5661586639277627\n",
      "\n",
      "* 1.05263157894737 kilogram 'Pizza, tuna, processed in FR | Chilled | Cardboard | at distribution/FR' (kilogram, None, None) ==> 2.4935876523643734\n",
      "* 0.046154 kilowatt hour 'Electricity, low voltage {FR}| market for | Cut-off, S - Copied from Ecoinvent' (kilowatt hour, None, None) ==> 0.002850806758018973\n",
      "* 0.21923 kilowatt hour 'Electricity, low voltage {FR}| market for | Cut-off, S - Copied from Ecoinvent' (kilowatt hour, None, None) ==> 0.013541239449678718\n",
      "* 0.2106 kilogram 'Tap water {Europe without Switzerland}| market for | Cut-off, S - Copied from Ecoinvent' (kilogram, None, None) ==> 7.552435715050189e-05\n",
      "* 0.165 ton kilometer 'Transport, freight, lorry with refrigeration machine, 7.5-16 ton, EURO5, R134a refrigerant, cooling {GLO}| transport, freight, lorry with refrigeration machine, 7.5-16 ton, EURO5, R134a refrigerant, cooling | Cut-off, S - Copied from Ecoinvent' (ton kilometer, None, None) ==> 0.04693539310283497\n",
      "* 0.0157894736842105 kilogram 'Biowaste {GLO}| treatment of biowaste, municipal incineration | Cut-off, S - Copied from Ecoinvent' (kilogram, None, None) ==> 0.0006335577102859161\n",
      "* 0.00178947368421052 kilogram 'Biowaste {RoW}| treatment of biowaste, industrial composting | Cut-off, S - Copied from Ecoinvent' (kilogram, None, None) ==> 0.00012067016212041145\n",
      "* 0.00873684210526315 kilogram 'Biowaste {RoW}| treatment of biowaste by anaerobic digestion | Cut-off, S - Copied from Ecoinvent' (kilogram, None, None) ==> 0.0008002408612887126\n",
      "\n",
      ">>>> 1.05263157894737kg Pizza, tuna, processed in FR | Chilled | Cardboard | at distribution/FR\n",
      "Total score: 2.4935876523643734\n",
      "\n",
      "* 1.05263157894737 kilogram 'Pizza, tuna, processed in FR | Chilled | Cardboard | at packaging/FR' (kilogram, None, None) ==> 2.34032098340379\n",
      "* 0.000910526315789475 kilowatt hour 'Electricity, low voltage {FR}| market for | Cut-off, S - Copied from Ecoinvent' (kilowatt hour, None, None) ==> 5.6240728309718595e-05\n",
      "* 0.00242947368421053 kilowatt hour 'Electricity, low voltage {FR}| market for | Cut-off, S - Copied from Ecoinvent' (kilowatt hour, None, None) ==> 0.00015006196640327\n",
      "* 0.010931578947368436 megajoule 'Heat, central or small-scale, natural gas {Europe without Switzerland}| market for heat, central or small-scale, natural gas | Cut-off, S - Copied from Ecoinvent' (megajoule, None, None) ==> 0.0008337071224134056\n",
      "* 0.0003694736842105269 kilogram 'Tap water {Europe without Switzerland}| market for | Cut-off, S - Copied from Ecoinvent' (kilogram, None, None) ==> 1.3249887219386317e-07\n",
      "* 0.5210526315789481 ton kilometer 'Transport, freight, lorry with refrigeration machine, 7.5-16 ton, EURO5, R134a refrigerant, cooling {GLO}| transport, freight, lorry with refrigeration machine, 7.5-16 ton, EURO5, R134a refrigerant, cooling | Cut-off, S - Copied from Ecoinvent' (ton kilometer, None, None) ==> 0.14821703085105797\n",
      "\n",
      ">>>> 1.05263157894737kg Pizza, tuna, processed in FR | Chilled | Cardboard | at packaging/FR\n",
      "Total score: 2.34032098340379\n",
      "\n",
      "* 1.05263157894737 kilogram 'Pizza, tuna, at plant' (kilogram, FR, None) ==> 2.2382637685313758\n",
      "* 0.105263157894737 kilogram 'Corrugated board box {RER}| production | Cut-off, S - Copied from Ecoinvent' (kilogram, None, None) ==> 0.09500040953201432\n",
      "* 0.02421052631578951 ton kilometer 'Transport, freight, lorry 16-32 metric ton, euro6 {RER}| market for transport, freight, lorry 16-32 metric ton, EURO6 | Cut-off, S - Copied from Ecoinvent' (ton kilometer, None, None) ==> 0.003943753364298421\n",
      "* 0.029473684210526357 ton kilometer 'Transport, freight train {RER}| market group for transport, freight train | Cut-off, S - Copied from Ecoinvent' (ton kilometer, None, None) ==> 0.0013903281643277878\n",
      "* 0.03789473684210532 ton kilometer 'Transport, freight, inland waterways, barge {RER}| processing | Cut-off, S - Copied from Ecoinvent' (ton kilometer, None, None) ==> 0.0017227224197364523\n",
      "\n",
      ">>>> 1.05263157894737kg Pizza, tuna, at plant\n"
     ]
    }
   ],
   "source": [
    "next_step = search_one(\"Pizza, tuna, at consumer\")\n",
    "amount = 1\n",
    "\n",
    "\n",
    "while True:\n",
    "    print(f\">>>> {amount}kg\", next_step[\"name\"])\n",
    "    demand = {next_step: amount}\n",
    "    lca = LCA(demand, climate_change)\n",
    "    lca.lci()\n",
    "    lca.lcia()\n",
    "    print(\"Total score:\", lca.score)\n",
    "    print()\n",
    "\n",
    "    list_impacts(next_step, amount)\n",
    "    \n",
    "    input_products = list(filter(lambda exc: \"Pizza, tuna\" in exc[\"name\"], next_step.technosphere()))\n",
    "    if len(input_products) == 0:\n",
    "        print(\"FINISHED\")\n",
    "        break\n",
    "    if len(input_products) > 1:\n",
    "        print(\"####### More than one product!\", input_products)\n",
    "        break\n",
    "        \n",
    "    next_step = input_products[0].input\n",
    "    amount = input_products[0][\"amount\"] * amount\n",
    "    print()\n"
   ]
  },
  {
   "cell_type": "code",
   "execution_count": null,
   "metadata": {},
   "outputs": [],
   "source": []
  },
  {
   "cell_type": "code",
   "execution_count": null,
   "metadata": {},
   "outputs": [],
   "source": []
  },
  {
   "cell_type": "code",
   "execution_count": null,
   "metadata": {},
   "outputs": [],
   "source": [
    "import pandas as pd\n",
    "\n",
    "agb_synthese = pd.read_csv(\"Agribalyse_Synthese codes ciqual.csv\")\n",
    "ciqual_codes =list(agb_synthese[\"Code CIQUAL\"])\n",
    "\n",
    "for ciqual_code in ciqual_codes:\n",
    "    search = agb.search(\"Ciqual code : \" + str(ciqual_code))\n",
    "    print(search)\n",
    "    product = search[0]"
   ]
  },
  {
   "cell_type": "code",
   "execution_count": null,
   "metadata": {},
   "outputs": [],
   "source": []
  }
 ],
 "metadata": {
  "kernelspec": {
   "display_name": "Python 3 (ipykernel)",
   "language": "python",
   "name": "python3"
  },
  "language_info": {
   "codemirror_mode": {
    "name": "ipython",
    "version": 3
   },
   "file_extension": ".py",
   "mimetype": "text/x-python",
   "name": "python",
   "nbconvert_exporter": "python",
   "pygments_lexer": "ipython3",
   "version": "3.10.0"
  }
 },
 "nbformat": 4,
 "nbformat_minor": 2
}
