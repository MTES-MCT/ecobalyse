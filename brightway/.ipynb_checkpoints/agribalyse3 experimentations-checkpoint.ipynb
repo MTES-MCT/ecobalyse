{
 "cells": [
  {
   "cell_type": "markdown",
   "metadata": {},
   "source": [
    "# Calcul d'impact d'une pizza au thon"
   ]
  },
  {
   "cell_type": "markdown",
   "metadata": {},
   "source": [
    "## Setup"
   ]
  },
  {
   "cell_type": "markdown",
   "metadata": {},
   "source": [
    "Import des librairies de base"
   ]
  },
  {
   "cell_type": "code",
   "execution_count": 26,
   "metadata": {},
   "outputs": [],
   "source": [
    "import os\n",
    "import matplotlib.pyplot as plt\n",
    "import numpy as np\n",
    "import pandas as pd\n",
    "import brightway2 as bw\n",
    "from brightway2 import *\n",
    "from bw2data.parameters import ActivityParameter, DatabaseParameter, ProjectParameter, Group"
   ]
  },
  {
   "cell_type": "markdown",
   "metadata": {},
   "source": [
    "Setup du projet suite à l'exécution du script `importing_databases.py`"
   ]
  },
  {
   "cell_type": "code",
   "execution_count": 27,
   "metadata": {},
   "outputs": [
    {
     "name": "stdout",
     "output_type": "stream",
     "text": [
      "Biosphere database already present!!! No setup is needed\n"
     ]
    }
   ],
   "source": [
    "# list(bw.projects)\n",
    "bw.projects.set_current(\"EF calculation\")\n",
    "bw.bw2setup()\n",
    "agb = Database(\"agribalyse3\")"
   ]
  },
  {
   "cell_type": "markdown",
   "metadata": {},
   "source": [
    "## La pizza au thon"
   ]
  },
  {
   "cell_type": "markdown",
   "metadata": {},
   "source": [
    "Sélection d'une \"activité\" à explorer : la pizza au thon"
   ]
  },
  {
   "cell_type": "code",
   "execution_count": 28,
   "metadata": {},
   "outputs": [
    {
     "name": "stdout",
     "output_type": "stream",
     "text": [
      "['Pizza, tuna, at plant' (kilogram, FR, None), 'Pizza, tuna, processed in FR | Chilled | Cardboard | at distribution/FR' (kilogram, None, None), 'Pizza, tuna, processed in FR | Chilled | Cardboard | at packaging/FR' (kilogram, None, None), 'Pizza, tuna, processed in FR | Chilled | Cardboard | at supermarket/FR' (kilogram, None, None), 'Pizza, tuna, processed in FR | Chilled | Cardboard | Oven | at consumer/FR [Ciqual code: 26270]' (kilogram, None, None)]\n"
     ]
    }
   ],
   "source": [
    "tuna_pizza_search = agb.search(\"tuna, pizza\")\n",
    "print(tuna_pizza_search)"
   ]
  },
  {
   "cell_type": "markdown",
   "metadata": {},
   "source": [
    "Sélection d'un produit en particulier"
   ]
  },
  {
   "cell_type": "code",
   "execution_count": 29,
   "metadata": {},
   "outputs": [
    {
     "name": "stdout",
     "output_type": "stream",
     "text": [
      "'Pizza, tuna, at plant' (kilogram, FR, None)\n",
      "{'simapro metadata': {'Category type': 'material', 'Process identifier': 'AGRIBALY000003000010051', 'Time period': 'Unspecified', 'Geography': 'Unspecified', 'Technology': 'Unspecified', 'Representativeness': 'Unspecified', 'Multiple output allocation': 'Unspecified', 'Substitution allocation': 'Unspecified', 'Cut off rules': 'Unspecified', 'Capital goods': 'Unspecified', 'Boundary with nature': 'Unspecified', 'Infrastructure': 'No', 'Date': '25/09/2019', 'Comment': \"Inventory of AGRIBALYSE v3.0.1, 2020. The CIQUAL food item 'Pizza, tuna' matches with a recipe from ANSES.\", 'System description': 'AGRIBALYSE v3.0'}, 'code': 'df83a4322d711cc512115a3d0e40bb03', 'database': 'agribalyse3', 'filename': './agribalyse3_no_param.CSV', 'type': 'process', 'reference product': 'Pizza, tuna, at plant', 'production amount': 1.0, 'name': 'Pizza, tuna, at plant', 'unit': 'kilogram', 'simapro name': 'Pizza, tuna, at plant/FR U', 'location': 'FR'}\n"
     ]
    }
   ],
   "source": [
    "tuna_pizza = tuna_pizza_search[0]\n",
    "print(tuna_pizza)\n",
    "print(tuna_pizza.as_dict())"
   ]
  },
  {
   "cell_type": "markdown",
   "metadata": {},
   "source": [
    "Affichage de la recette"
   ]
  },
  {
   "cell_type": "code",
   "execution_count": 30,
   "metadata": {},
   "outputs": [
    {
     "name": "stdout",
     "output_type": "stream",
     "text": [
      "Pizza, tuna, at plant : 1.0 kilogram\n",
      "Mozzarella cheese, from cow's milk, at plant : 0.255 kilogram\n",
      "Olive oil, at plant : 0.0283 kilogram\n",
      "Tuna, fillet, raw, at processing : 0.142 kilogram\n",
      "Water, municipal : 0.0948 kilogram\n",
      "Wheat flour, at industrial mill : 0.16 kilogram\n",
      "Cooking, industrial, 1kg of cooked product/ FR U : 1.0 kilogram\n",
      "Tomato, for processing, peeled, at plant : 0.404 kilogram\n",
      "Water : 8.38e-05 cubic meter\n"
     ]
    }
   ],
   "source": [
    "for exchange in tuna_pizza.exchanges():\n",
    "    print(exchange[\"name\"], \":\", exchange[\"amount\"], exchange[\"unit\"])"
   ]
  },
  {
   "cell_type": "markdown",
   "metadata": {},
   "source": [
    "## Calcul de l'impact"
   ]
  },
  {
   "cell_type": "markdown",
   "metadata": {},
   "source": [
    "Calculons l'impact de la pizza au thon :"
   ]
  },
  {
   "cell_type": "code",
   "execution_count": 31,
   "metadata": {},
   "outputs": [
    {
     "data": {
      "text/plain": [
       "{'Pizza, tuna, at plant' (kilogram, FR, None): 1}"
      ]
     },
     "execution_count": 31,
     "metadata": {},
     "output_type": "execute_result"
    }
   ],
   "source": [
    "recette = {tuna_pizza:1}\n",
    "recette"
   ]
  },
  {
   "cell_type": "code",
   "execution_count": 32,
   "metadata": {},
   "outputs": [],
   "source": [
    "impact = ('IPCC 2013', 'climate change', 'GWP 100a')\n",
    "lca = LCA(recette, impact)"
   ]
  },
  {
   "cell_type": "markdown",
   "metadata": {},
   "source": [
    "Calculer et afficher le score :"
   ]
  },
  {
   "cell_type": "code",
   "execution_count": 33,
   "metadata": {},
   "outputs": [
    {
     "data": {
      "text/plain": [
       "1.959127291947562"
      ]
     },
     "execution_count": 33,
     "metadata": {},
     "output_type": "execute_result"
    }
   ],
   "source": [
    "lca.lci()\n",
    "lca.lcia()\n",
    "lca.score"
   ]
  },
  {
   "cell_type": "markdown",
   "metadata": {},
   "source": [
    "Liste des impacts"
   ]
  },
  {
   "cell_type": "code",
   "execution_count": 34,
   "metadata": {},
   "outputs": [
    {
     "data": {
      "text/plain": [
       "[('EF v3.0 EN15804', 'climate change', 'global warming potential (GWP100)'),\n",
       " ('EF v3.0 EN15804',\n",
       "  'climate change: biogenic',\n",
       "  'global warming potential (GWP100)'),\n",
       " ('EF v3.0 EN15804',\n",
       "  'climate change: fossil',\n",
       "  'global warming potential (GWP100)'),\n",
       " ('EF v3.0 EN15804',\n",
       "  'climate change: land use and land use change',\n",
       "  'global warming potential (GWP100)'),\n",
       " ('EF v3.0 no LT',\n",
       "  'climate change no LT',\n",
       "  'global warming potential (GWP100) no LT'),\n",
       " ('EF v3.0 no LT',\n",
       "  'climate change: biogenic no LT',\n",
       "  'global warming potential (GWP100) no LT'),\n",
       " ('EF v3.0 no LT',\n",
       "  'climate change: fossil no LT',\n",
       "  'global warming potential (GWP100) no LT'),\n",
       " ('EF v3.0 no LT',\n",
       "  'climate change: land use and land use change no LT',\n",
       "  'global warming potential (GWP100) no LT'),\n",
       " ('EF v3.0', 'climate change', 'global warming potential (GWP100)'),\n",
       " ('EF v3.0', 'climate change: biogenic', 'global warming potential (GWP100)'),\n",
       " ('EF v3.0', 'climate change: fossil', 'global warming potential (GWP100)'),\n",
       " ('EF v3.0',\n",
       "  'climate change: land use and land use change',\n",
       "  'global warming potential (GWP100)')]"
      ]
     },
     "execution_count": 34,
     "metadata": {},
     "output_type": "execute_result"
    }
   ],
   "source": [
    "# To search for a specific impact:\n",
    "[m for m in bw.methods if \"superseded\" not in str(m) and \"EF v3.0\" in str(m) and \"climate change\" in str(m)]"
   ]
  },
  {
   "cell_type": "code",
   "execution_count": 37,
   "metadata": {},
   "outputs": [],
   "source": [
    "# List of impacts we're using in wikicarbone\n",
    "impacts = [\n",
    "    ('EF v3.0', 'acidification', 'accumulated exceedance (ae)'),\n",
    "    ('EF v3.0', 'ozone depletion', 'ozone depletion potential (ODP) '),\n",
    "    ('EF v3.0', 'climate change', 'global warming potential (GWP100)'),\n",
    "    ('EF v3.0 no LT', 'climate change no LT', 'global warming potential (GWP100) no LT'),\n",
    "    ('EF v3.0', 'climate change: biogenic', 'global warming potential (GWP100)'),\n",
    "    ('EF v3.0', 'climate change: fossil', 'global warming potential (GWP100)'),\n",
    "    ('EF v3.0', 'climate change: land use and land use change', 'global warming potential (GWP100)'),\n",
    "    ('EF v3.0', 'eutrophication: freshwater', 'fraction of nutrients reaching freshwater end compartment (P)'),\n",
    "    ('EF v3.0', 'eutrophication: marine', 'fraction of nutrients reaching marine end compartment (N)'),\n",
    "    ('EF v3.0', 'eutrophication: terrestrial', 'accumulated exceedance (AE) '),\n",
    "    ('EF v3.0', 'photochemical ozone formation: human health', 'tropospheric ozone concentration increase'),\n",
    "    ('EF v3.0', 'particulate matter formation', 'impact on human health'),\n",
    "    ('EF v3.0', 'ionising radiation: human health', 'human exposure efficiency relative to u235'),\n",
    "    ('EF v3.0', 'energy resources: non-renewable', 'abiotic depletion potential (ADP): fossil fuels'),\n",
    "    ('EF v3.0', 'material resources: metals/minerals', 'abiotic depletion potential (ADP): elements (ultimate reserves)'),\n",
    "    ('EF v3.0', 'land use', 'soil quality index'),\n",
    "    ('EF v3.0', 'water use', 'user deprivation potential (deprivation-weighted water consumption)'),\n",
    "]"
   ]
  },
  {
   "cell_type": "markdown",
   "metadata": {},
   "source": [
    "Calcul des différents impacts pour la pizza au thon"
   ]
  },
  {
   "cell_type": "code",
   "execution_count": 38,
   "metadata": {
    "scrolled": true
   },
   "outputs": [
    {
     "name": "stdout",
     "output_type": "stream",
     "text": [
      "acidification : 0.033382874214415256\n",
      "ozone depletion : 3.5279104787949036e-07\n",
      "climate change : 2.1266068281092734\n",
      "climate change no LT : 2.1263505801048037\n"
     ]
    },
    {
     "ename": "AssertionError",
     "evalue": "Can't find method object ('EF v3.0 no LT', 'climate change no LT$', 'global warming potential (GWP100) no LT')",
     "output_type": "error",
     "traceback": [
      "\u001b[0;31m---------------------------------------------------------------------------\u001b[0m",
      "\u001b[0;31mAssertionError\u001b[0m                            Traceback (most recent call last)",
      "Input \u001b[0;32mIn [38]\u001b[0m, in \u001b[0;36m<cell line: 1>\u001b[0;34m()\u001b[0m\n\u001b[1;32m      1\u001b[0m \u001b[38;5;28;01mfor\u001b[39;00m impact \u001b[38;5;129;01min\u001b[39;00m impacts:\n\u001b[0;32m----> 2\u001b[0m     lca \u001b[38;5;241m=\u001b[39m \u001b[43mLCA\u001b[49m\u001b[43m(\u001b[49m\u001b[43mrecette\u001b[49m\u001b[43m,\u001b[49m\u001b[43m \u001b[49m\u001b[43mimpact\u001b[49m\u001b[43m)\u001b[49m\n\u001b[1;32m      3\u001b[0m     lca\u001b[38;5;241m.\u001b[39mlci()\n\u001b[1;32m      4\u001b[0m     lca\u001b[38;5;241m.\u001b[39mlcia()\n",
      "File \u001b[0;32m~/.local/share/virtualenvs/wikicarbone-data-3U72AueT/lib/python3.10/site-packages/bw2calc/lca.py:106\u001b[0m, in \u001b[0;36mLCA.__init__\u001b[0;34m(self, demand, method, weighting, normalization, database_filepath, log_config, presamples, seed, override_presamples_seed)\u001b[0m\n\u001b[1;32m     99\u001b[0m \u001b[38;5;28;01melse\u001b[39;00m:\n\u001b[1;32m    100\u001b[0m     \u001b[38;5;28mself\u001b[39m\u001b[38;5;241m.\u001b[39mpresamples \u001b[38;5;241m=\u001b[39m \u001b[38;5;28;01mNone\u001b[39;00m\n\u001b[1;32m    102\u001b[0m \u001b[38;5;28mself\u001b[39m\u001b[38;5;241m.\u001b[39mdatabase_filepath, \\\n\u001b[1;32m    103\u001b[0m     \u001b[38;5;28mself\u001b[39m\u001b[38;5;241m.\u001b[39mmethod_filepath, \\\n\u001b[1;32m    104\u001b[0m     \u001b[38;5;28mself\u001b[39m\u001b[38;5;241m.\u001b[39mweighting_filepath, \\\n\u001b[1;32m    105\u001b[0m     \u001b[38;5;28mself\u001b[39m\u001b[38;5;241m.\u001b[39mnormalization_filepath \u001b[38;5;241m=\u001b[39m \\\n\u001b[0;32m--> 106\u001b[0m     \u001b[38;5;28;43mself\u001b[39;49m\u001b[38;5;241;43m.\u001b[39;49m\u001b[43mget_array_filepaths\u001b[49m\u001b[43m(\u001b[49m\u001b[43m)\u001b[49m\n\u001b[1;32m    108\u001b[0m \u001b[38;5;28mself\u001b[39m\u001b[38;5;241m.\u001b[39mlogger\u001b[38;5;241m.\u001b[39minfo(\u001b[38;5;124m\"\u001b[39m\u001b[38;5;124mCreated LCA object\u001b[39m\u001b[38;5;124m\"\u001b[39m, extra\u001b[38;5;241m=\u001b[39m{\n\u001b[1;32m    109\u001b[0m     \u001b[38;5;124m'\u001b[39m\u001b[38;5;124mdemand\u001b[39m\u001b[38;5;124m'\u001b[39m: wrap_functional_unit(\u001b[38;5;28mself\u001b[39m\u001b[38;5;241m.\u001b[39mdemand),\n\u001b[1;32m    110\u001b[0m     \u001b[38;5;124m'\u001b[39m\u001b[38;5;124mdatabase_filepath\u001b[39m\u001b[38;5;124m'\u001b[39m: \u001b[38;5;28mself\u001b[39m\u001b[38;5;241m.\u001b[39mdatabase_filepath,\n\u001b[0;32m   (...)\u001b[0m\n\u001b[1;32m    117\u001b[0m     \u001b[38;5;124m'\u001b[39m\u001b[38;5;124mweighting_filepath\u001b[39m\u001b[38;5;124m'\u001b[39m: \u001b[38;5;28mself\u001b[39m\u001b[38;5;241m.\u001b[39mweighting_filepath,\n\u001b[1;32m    118\u001b[0m })\n",
      "File \u001b[0;32m~/.local/share/virtualenvs/wikicarbone-data-3U72AueT/lib/python3.10/site-packages/bw2calc/lca.py:124\u001b[0m, in \u001b[0;36mLCA.get_array_filepaths\u001b[0;34m(self)\u001b[0m\n\u001b[1;32m    120\u001b[0m \u001b[38;5;28;01mdef\u001b[39;00m \u001b[38;5;21mget_array_filepaths\u001b[39m(\u001b[38;5;28mself\u001b[39m):\n\u001b[1;32m    121\u001b[0m     \u001b[38;5;124;03m\"\"\"Use utility functions to get all array filepaths\"\"\"\u001b[39;00m\n\u001b[1;32m    122\u001b[0m     \u001b[38;5;28;01mreturn\u001b[39;00m (\n\u001b[1;32m    123\u001b[0m         get_filepaths(\u001b[38;5;28mself\u001b[39m\u001b[38;5;241m.\u001b[39mdemand, \u001b[38;5;124m\"\u001b[39m\u001b[38;5;124mdemand\u001b[39m\u001b[38;5;124m\"\u001b[39m),\n\u001b[0;32m--> 124\u001b[0m         \u001b[43mget_filepaths\u001b[49m\u001b[43m(\u001b[49m\u001b[38;5;28;43mself\u001b[39;49m\u001b[38;5;241;43m.\u001b[39;49m\u001b[43mmethod\u001b[49m\u001b[43m,\u001b[49m\u001b[43m \u001b[49m\u001b[38;5;124;43m\"\u001b[39;49m\u001b[38;5;124;43mmethod\u001b[39;49m\u001b[38;5;124;43m\"\u001b[39;49m\u001b[43m)\u001b[49m,\n\u001b[1;32m    125\u001b[0m         get_filepaths(\u001b[38;5;28mself\u001b[39m\u001b[38;5;241m.\u001b[39mweighting, \u001b[38;5;124m\"\u001b[39m\u001b[38;5;124mweighting\u001b[39m\u001b[38;5;124m\"\u001b[39m),\n\u001b[1;32m    126\u001b[0m         get_filepaths(\u001b[38;5;28mself\u001b[39m\u001b[38;5;241m.\u001b[39mnormalization, \u001b[38;5;124m\"\u001b[39m\u001b[38;5;124mnormalization\u001b[39m\u001b[38;5;124m\"\u001b[39m),\n\u001b[1;32m    127\u001b[0m     )\n",
      "File \u001b[0;32m~/.local/share/virtualenvs/wikicarbone-data-3U72AueT/lib/python3.10/site-packages/bw2calc/utils.py:98\u001b[0m, in \u001b[0;36mget_filepaths\u001b[0;34m(name, kind)\u001b[0m\n\u001b[1;32m     96\u001b[0m     \u001b[38;5;28;01mreturn\u001b[39;00m \u001b[38;5;28;01mNone\u001b[39;00m\n\u001b[1;32m     97\u001b[0m data_store, metadata \u001b[38;5;241m=\u001b[39m OBJECT_MAPPING[kind]\n\u001b[0;32m---> 98\u001b[0m \u001b[38;5;28;01massert\u001b[39;00m name \u001b[38;5;129;01min\u001b[39;00m metadata, \u001b[38;5;124m\"\u001b[39m\u001b[38;5;124mCan\u001b[39m\u001b[38;5;124m'\u001b[39m\u001b[38;5;124mt find \u001b[39m\u001b[38;5;132;01m{}\u001b[39;00m\u001b[38;5;124m object \u001b[39m\u001b[38;5;132;01m{}\u001b[39;00m\u001b[38;5;124m\"\u001b[39m\u001b[38;5;241m.\u001b[39mformat(kind, name)\n\u001b[1;32m     99\u001b[0m \u001b[38;5;28;01mreturn\u001b[39;00m [data_store(name)\u001b[38;5;241m.\u001b[39mfilepath_processed()]\n",
      "\u001b[0;31mAssertionError\u001b[0m: Can't find method object ('EF v3.0 no LT', 'climate change no LT$', 'global warming potential (GWP100) no LT')"
     ]
    }
   ],
   "source": [
    "for impact in impacts:\n",
    "    lca = LCA(recette, impact)\n",
    "    lca.lci()\n",
    "    lca.lcia()\n",
    "    print(impact[1], \":\", lca.score)"
   ]
  },
  {
   "cell_type": "code",
   "execution_count": 165,
   "metadata": {},
   "outputs": [
    {
     "data": {
      "text/plain": [
       "('EF v3.0',\n",
       " 'climate change: land use and land use change',\n",
       " 'global warming potential (GWP100)')"
      ]
     },
     "execution_count": 165,
     "metadata": {},
     "output_type": "execute_result"
    }
   ],
   "source": [
    "lca.method"
   ]
  },
  {
   "cell_type": "code",
   "execution_count": 166,
   "metadata": {},
   "outputs": [
    {
     "data": {
      "text/plain": [
       "{'Pizza, tuna, at plant' (kilogram, FR, None): 1}"
      ]
     },
     "execution_count": 166,
     "metadata": {},
     "output_type": "execute_result"
    }
   ],
   "source": [
    "lca.demand"
   ]
  },
  {
   "cell_type": "code",
   "execution_count": 169,
   "metadata": {},
   "outputs": [
    {
     "name": "stdout",
     "output_type": "stream",
     "text": [
      "The Pizza, tuna, at plant process accounts for 0.064080 kg CO2-Eq.\n"
     ]
    }
   ],
   "source": [
    "print(\"The {} process accounts for {:f} {}.\".format(\n",
    "    list(recette.keys())[0]['name'],\n",
    "    lca.score,\n",
    "    bw.methods.get(lca.method).get('unit')\n",
    "    ))"
   ]
  },
  {
   "cell_type": "markdown",
   "metadata": {},
   "source": [
    "## Analyse"
   ]
  },
  {
   "cell_type": "code",
   "execution_count": 173,
   "metadata": {},
   "outputs": [],
   "source": [
    "import bw2analyzer as bwa\n",
    "\n",
    "ca = bwa.ContributionAnalysis()"
   ]
  },
  {
   "cell_type": "code",
   "execution_count": 174,
   "metadata": {},
   "outputs": [
    {
     "data": {
      "text/plain": [
       "[(0.06102030471654334,\n",
       "  0.0005551472349730269,\n",
       "  'Land tenure, arable land, measured as carbon net primary productivity {BR}| clear-cutting, primary forest to arable land_modified' (kilogram, None, None)),\n",
       " (0.002145193489450346,\n",
       "  7.47454157639066e-05,\n",
       "  'Land tenure, arable land, as carbon NPP, perennial cropland already in use to arable land (WFLDB 3.1)' (kilogram, ES, None)),\n",
       " (0.00027870067323401666,\n",
       "  9.710824593214127e-06,\n",
       "  'Land tenure, arable land, as carbon NPP, perennial cropland already in use to arable land (WFLDB 3.1)' (kilogram, IT, None)),\n",
       " (0.00010826958371650856,\n",
       "  5.363936524830364e-05,\n",
       "  'Palm oil, crude {GLO}| market for | Cut-off, S - Copied from Ecoinvent' (kilogram, None, None)),\n",
       " (9.099432158721124e-05,\n",
       "  5.835116232926641e-05,\n",
       "  'Alkyd paint, white, without solvent, in 60% solution state {RER}| alkyd paint production, white, solvent-based, product in 60% solution state | Cut-off, S - Copied from Ecoinvent' (kilogram, None, None))]"
      ]
     },
     "execution_count": 174,
     "metadata": {},
     "output_type": "execute_result"
    }
   ],
   "source": [
    "ca.annotated_top_processes(lca, limit=5) #returns a list of tuples: (lca score, supply amount, activity name)"
   ]
  },
  {
   "cell_type": "code",
   "execution_count": 175,
   "metadata": {},
   "outputs": [
    {
     "data": {
      "text/plain": [
       "[(0.06102030471654334,\n",
       "  0.0005551472349730269,\n",
       "  'Land tenure, arable land, measured as carbon net primary productivity {BR}| clear-cutting, primary forest to arable land_modified' (kilogram, None, None)),\n",
       " (0.002145193489450346,\n",
       "  7.47454157639066e-05,\n",
       "  'Land tenure, arable land, as carbon NPP, perennial cropland already in use to arable land (WFLDB 3.1)' (kilogram, ES, None)),\n",
       " (0.00027870067323401666,\n",
       "  9.710824593214127e-06,\n",
       "  'Land tenure, arable land, as carbon NPP, perennial cropland already in use to arable land (WFLDB 3.1)' (kilogram, IT, None)),\n",
       " (0.00010826958371650856,\n",
       "  5.363936524830364e-05,\n",
       "  'Palm oil, crude {GLO}| market for | Cut-off, S - Copied from Ecoinvent' (kilogram, None, None)),\n",
       " (9.099432158721124e-05,\n",
       "  5.835116232926641e-05,\n",
       "  'Alkyd paint, white, without solvent, in 60% solution state {RER}| alkyd paint production, white, solvent-based, product in 60% solution state | Cut-off, S - Copied from Ecoinvent' (kilogram, None, None)),\n",
       " (8.607050032293486e-05,\n",
       "  0.004131135018671778,\n",
       "  'Electricity, medium voltage {BR}| market for | Cut-off, S - Copied from Ecoinvent' (kilowatt hour, None, None)),\n",
       " (5.03343465304444e-05,\n",
       "  2.178097142771141e-05,\n",
       "  'Rosin size, for paper production {RER}| production | Cut-off, S - Copied from Ecoinvent' (kilogram, None, None)),\n",
       " (3.7868659821906846e-05,\n",
       "  0.8176472565986801,\n",
       "  'Electricity, medium voltage {FR}| market for | Cut-off, S - Copied from Ecoinvent' (kilowatt hour, None, None)),\n",
       " (2.2790098503890314e-05,\n",
       "  0.12739474660897673,\n",
       "  'Diesel {Europe without Switzerland}| market for | Cut-off, S - Copied from Ecoinvent' (kilogram, None, None)),\n",
       " (2.0196433096462906e-05,\n",
       "  0.0018819075864946236,\n",
       "  'Phosphoric acid, industrial grade, without water, in 85% solution state {GLO}| market for | Cut-off, S - Copied from Ecoinvent' (kilogram, None, None)),\n",
       " (1.9129910011114704e-05,\n",
       "  0.22864616805531868,\n",
       "  'Transport, freight, lorry with refrigeration machine, 7.5-16 ton, EURO5, R134a refrigerant, cooling {GLO}| transport, freight, lorry with refrigeration machine, 7.5-16 ton, EURO5, R134a refrigerant, cooling | Cut-off, S - Copied from Ecoinvent' (ton kilometer, None, None)),\n",
       " (1.7032903755597857e-05,\n",
       "  9.314764753986902e-06,\n",
       "  'Power sawing, without catalytic converter {GLO}| market for | Cut-off, S - Copied from Ecoinvent' (hour, None, None)),\n",
       " (1.4571795858082156e-05,\n",
       "  5.1856926917798016e-05,\n",
       "  'Soybeans, metals back to soil, at farm/BR U (ACYVIA)' (kilogram, None, None)),\n",
       " (9.491795934746471e-06,\n",
       "  0.01665000046268106,\n",
       "  'Rape oil, crude {CH}| market for | Cut-off, S - Copied from Ecoinvent' (kilogram, None, None)),\n",
       " (9.07667454599012e-06,\n",
       "  0.002231904678238467,\n",
       "  'Section bar rolling, steel {RER}| processing | Cut-off, S - Copied from Ecoinvent' (kilogram, None, None)),\n",
       " (7.043782948579005e-06,\n",
       "  0.14564580256320347,\n",
       "  'Transport, freight, lorry 16-32 metric ton, euro6 {RER}| market for transport, freight, lorry 16-32 metric ton, EURO6 | Cut-off, S - Copied from Ecoinvent' (ton kilometer, None, None)),\n",
       " (6.9298275502761144e-06,\n",
       "  0.02777925816638638,\n",
       "  'Sodium chloride, powder {RER}| production | Cut-off, S - Copied from Ecoinvent' (kilogram, None, None)),\n",
       " (6.8146871914540655e-06,\n",
       "  0.0068314762030728445,\n",
       "  'Electricity, low voltage {ENTSO-E}| market group for | Cut-off, S - Copied from Ecoinvent' (kilowatt hour, None, None)),\n",
       " (6.489444155097692e-06,\n",
       "  0.0031557709212971592,\n",
       "  'Sodium hydroxide, without water, in 50% solution state {GLO}| market for | Cut-off, S - Copied from Ecoinvent' (kilogram, None, None)),\n",
       " (5.947658292938443e-06,\n",
       "  0.7114200050103658,\n",
       "  'Transport, freight, sea, transoceanic ship with reefer, cooling {GLO}| processing | Cut-off, S - Copied from Ecoinvent' (ton kilometer, None, None)),\n",
       " (5.296822969000181e-06,\n",
       "  0.06338218245398076,\n",
       "  'Transport, freight, lorry with refrigeration machine, 7.5-16 ton, EURO5, carbon dioxide, liquid refrigerant, cooling {GLO}| market for transport, freight, lorry with refrigeration machine, 7.5-16 ton | Cut-off, S - Copied from Ecoinvent' (ton kilometer, None, None)),\n",
       " (5.2735084064536e-06,\n",
       "  0.0050097898299802405,\n",
       "  'Steel, low-alloyed, hot rolled {RER}| production | Cut-off, S - Copied from Ecoinvent' (kilogram, None, None)),\n",
       " (4.53515789396642e-06,\n",
       "  0.75318376082972,\n",
       "  'Transport, freight, sea, transoceanic ship {GLO}| market for | Cut-off, S - Copied from Ecoinvent' (ton kilometer, None, None)),\n",
       " (4.138966785846069e-06,\n",
       "  8.521443497328917e-05,\n",
       "  'Aluminium, wrought alloy {GLO}| market for | Cut-off, S - Copied from Ecoinvent' (kilogram, None, None)),\n",
       " (4.12036533167475e-06,\n",
       "  0.0005300162846248489,\n",
       "  'Phosphate fertiliser, as P2O5 {RER}| single superphosphate production | Cut-off, S - Copied from Ecoinvent' (kilogram, None, None))]"
      ]
     },
     "execution_count": 175,
     "metadata": {},
     "output_type": "execute_result"
    }
   ],
   "source": [
    "lca.top_activities() #this command essentially relies on the annotated_top_process command from above. Hence, the output is given as (lca score, supply amount, activity name)"
   ]
  },
  {
   "cell_type": "code",
   "execution_count": 176,
   "metadata": {},
   "outputs": [
    {
     "data": {
      "text/plain": [
       "[(0.06215842247158594,\n",
       "  0.06215842247158594,\n",
       "  'Carbon dioxide, from soil or biomass stock' (kilogram, None, ('air', 'non-urban air or from high stacks')))]"
      ]
     },
     "execution_count": 176,
     "metadata": {},
     "output_type": "execute_result"
    }
   ],
   "source": [
    "ca.annotated_top_emissions(lca, limit=0.02, limit_type='percent')"
   ]
  },
  {
   "cell_type": "code",
   "execution_count": 177,
   "metadata": {},
   "outputs": [
    {
     "data": {
      "text/plain": [
       "[(0.06215842247158594,\n",
       "  0.06215842247158594,\n",
       "  'Carbon dioxide, from soil or biomass stock' (kilogram, None, ('air', 'non-urban air or from high stacks'))),\n",
       " (0.0011105934062394657,\n",
       "  3.0179169273487625e-05,\n",
       "  'Methane, from soil or biomass stock' (kilogram, None, ('air', 'non-urban air or from high stacks'))),\n",
       " (0.0007244528800638319,\n",
       "  0.0004614349400386031,\n",
       "  'Carbon monoxide, from soil or biomass stock' (kilogram, None, ('air', 'non-urban air or from high stacks'))),\n",
       " (8.946873525633019e-05,\n",
       "  8.946873525633018e-05,\n",
       "  'Carbon dioxide, from soil or biomass stock' (kilogram, None, ('air',))),\n",
       " (-2.513996407731578e-06,\n",
       "  2.5139964077315753e-06,\n",
       "  'Carbon dioxide, to soil or biomass stock' (kilogram, None, ('soil',))),\n",
       " (0.0, 0.0, 'Fungicides, unspecified' (kilogram, None, ('soil',))),\n",
       " (0.0,\n",
       "  1.3062719095041464e-12,\n",
       "  'Ethylene oxide' (kilogram, None, ('air', 'lower stratosphere + upper troposphere'))),\n",
       " (0.0,\n",
       "  5.888265568574715e-07,\n",
       "  'Fluorine' (kilogram, None, ('air', 'low population density, long-term'))),\n",
       " (0.0,\n",
       "  1.612578947788624e-08,\n",
       "  'Fluorine' (kilogram, None, ('air', 'non-urban air or from high stacks'))),\n",
       " (0.0, 1.3232633574912723e-08, 'Ethyne' (kilogram, None, ('air',))),\n",
       " (0.0,\n",
       "  1.775520697206703e-07,\n",
       "  'Ethyne' (kilogram, None, ('air', 'non-urban air or from high stacks'))),\n",
       " (0.0, 8.623867437625671e-10, 'Ethylene oxide' (kilogram, None, ('air',))),\n",
       " (0.0,\n",
       "  3.1212902056115774e-13,\n",
       "  'Ethylene oxide' (kilogram, None, ('air', 'non-urban air or from high stacks'))),\n",
       " (0.0,\n",
       "  6.723482675271239e-06,\n",
       "  'Formaldehyde' (kilogram, None, ('air', 'non-urban air or from high stacks'))),\n",
       " (0.0,\n",
       "  1.1041721944054491e-08,\n",
       "  'Ethene, trichloro-' (kilogram, None, ('air',))),\n",
       " (0.0,\n",
       "  3.954702964721593e-12,\n",
       "  'Ethene, tetrachloro-' (kilogram, None, ('air',))),\n",
       " (0.0,\n",
       "  1.21287650465142e-10,\n",
       "  'Ethene, tetrachloro-' (kilogram, None, ('air', 'non-urban air or from high stacks'))),\n",
       " (0.0, 1.053242979356339e-15, 'Ethene, chloro-' (kilogram, None, ('air',))),\n",
       " (0.0, 2.0068329419423353e-07, 'Ethene' (kilogram, None, ('air',))),\n",
       " (0.0,\n",
       "  8.694443347400879e-06,\n",
       "  'Ethene' (kilogram, None, ('air', 'non-urban air or from high stacks'))),\n",
       " (0.0, 1.667254036502734e-12, 'Ethanol' (kilogram, None, ('air',))),\n",
       " (0.0,\n",
       "  1.5845613318409772e-07,\n",
       "  'Ethanol' (kilogram, None, ('air', 'non-urban air or from high stacks'))),\n",
       " (0.0, 0.0, 'Ethane, pentafluoro-, HFC-125' (kilogram, None, ('air',))),\n",
       " (0.0,\n",
       "  1.4777708831038912e-09,\n",
       "  'Ethane, hexafluoro-, HFC-116' (kilogram, None, ('air',))),\n",
       " (0.0, 1.2780937767921276e-09, 'Fluorine' (kilogram, None, ('air',)))]"
      ]
     },
     "execution_count": 177,
     "metadata": {},
     "output_type": "execute_result"
    }
   ],
   "source": [
    "lca.top_emissions()"
   ]
  }
 ],
 "metadata": {
  "kernelspec": {
   "display_name": "Python 3 (ipykernel)",
   "language": "python",
   "name": "python3"
  },
  "language_info": {
   "codemirror_mode": {
    "name": "ipython",
    "version": 3
   },
   "file_extension": ".py",
   "mimetype": "text/x-python",
   "name": "python",
   "nbconvert_exporter": "python",
   "pygments_lexer": "ipython3",
   "version": "3.10.0"
  }
 },
 "nbformat": 4,
 "nbformat_minor": 2
}
