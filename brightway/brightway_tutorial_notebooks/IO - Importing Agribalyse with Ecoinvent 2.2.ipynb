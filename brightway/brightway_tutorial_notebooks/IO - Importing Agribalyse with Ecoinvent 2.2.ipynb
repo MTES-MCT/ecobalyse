{
 "cells": [
  {
   "cell_type": "markdown",
   "metadata": {},
   "source": [
    "# Import Agribalyse and link to ecoinvent 2.2\n",
    "\n",
    "[Agribalyse](http://www.ademe.fr/en/expertise/alternative-approaches-to-production/agribalyse-program) is a French LCI database of agricultural products. It builds on top of ecoinvent 2.2. It was exported from SimaPro, so the names of ecoinvent processes are mangled, and need to be fixed back to standard ecoinvent.\n",
    "\n",
    "This notebook uses Agribalyse 1.2, released in March 2015."
   ]
  },
  {
   "cell_type": "code",
   "execution_count": 11,
   "metadata": {},
   "outputs": [],
   "source": [
    "from brightway2 import *\n",
    "import brightway2 as bw"
   ]
  },
  {
   "cell_type": "code",
   "execution_count": 12,
   "metadata": {},
   "outputs": [],
   "source": [
    "bw.projects.set_current(\"EF calculation\")"
   ]
  },
  {
   "cell_type": "code",
   "execution_count": 13,
   "metadata": {},
   "outputs": [
    {
     "data": {
      "text/plain": [
       "Databases dictionary with 2 object(s):\n",
       "\tagribalyse3\n",
       "\tbiosphere3"
      ]
     },
     "execution_count": 13,
     "metadata": {},
     "output_type": "execute_result"
    }
   ],
   "source": [
    "databases"
   ]
  },
  {
   "cell_type": "markdown",
   "metadata": {},
   "source": [
    "Create a new project for this notebook"
   ]
  },
  {
   "cell_type": "code",
   "execution_count": null,
   "metadata": {},
   "outputs": [],
   "source": [
    "projects.set_current(\"Agribalyse\")"
   ]
  },
  {
   "cell_type": "markdown",
   "metadata": {},
   "source": [
    "## Add biosphere flows\n",
    "\n",
    "Biosphere flow names follow the standard in ecoinvent 3.3. We will need to match these names to those in Agribalyse."
   ]
  },
  {
   "cell_type": "code",
   "execution_count": 4,
   "metadata": {},
   "outputs": [
    {
     "name": "stderr",
     "output_type": "stream",
     "text": [
      "Writing activities to SQLite3 database:\n"
     ]
    },
    {
     "name": "stdout",
     "output_type": "stream",
     "text": [
      "Creating default biosphere\n",
      "\n",
      "Applying strategy: normalize_units\n",
      "Applying strategy: drop_unspecified_subcategories\n",
      "Applying strategy: ensure_categories_are_tuples\n",
      "Applied 3 strategies in 0.00 seconds\n"
     ]
    },
    {
     "name": "stderr",
     "output_type": "stream",
     "text": [
      "0% [##############################] 100% | ETA: 00:00:00\n",
      "Total time elapsed: 00:00:00\n"
     ]
    },
    {
     "name": "stdout",
     "output_type": "stream",
     "text": [
      "Title: Writing activities to SQLite3 database:\n",
      "  Started: 04/04/2022 14:52:12\n",
      "  Finished: 04/04/2022 14:52:12\n",
      "  Total time elapsed: 00:00:00\n",
      "  CPU %: 87.90\n",
      "  Memory %: 2.01\n",
      "Created database: biosphere3\n",
      "Creating default LCIA methods\n",
      "\n",
      "Applying strategy: normalize_units\n",
      "Applying strategy: set_biosphere_type\n",
      "Applying strategy: fix_ecoinvent_38_lcia_implementation\n",
      "Applying strategy: drop_unspecified_subcategories\n",
      "Applying strategy: link_iterable_by_fields\n",
      "Applied 5 strategies in 0.80 seconds\n",
      "Wrote 975 LCIA methods with 254388 characterization factors\n",
      "Creating core data migrations\n",
      "\n"
     ]
    }
   ],
   "source": [
    "bw2setup()"
   ]
  },
  {
   "cell_type": "code",
   "execution_count": null,
   "metadata": {},
   "outputs": [],
   "source": []
  },
  {
   "cell_type": "markdown",
   "metadata": {},
   "source": [
    "## Import ecoinvent 2.2 as background database"
   ]
  },
  {
   "cell_type": "code",
   "execution_count": null,
   "metadata": {},
   "outputs": [],
   "source": [
    "path"
   ]
  },
  {
   "cell_type": "code",
   "execution_count": null,
   "metadata": {},
   "outputs": [],
   "source": [
    "path = %pwd\n",
    "path += \"/Agribalyse - Processes\"\n",
    "importer = SingleOutputEcospold1Importer(path, \"Agribalyse 1.3 - Processes\")\n",
    "importer.apply_strategies()\n",
    "importer.statistics()"
   ]
  },
  {
   "cell_type": "code",
   "execution_count": null,
   "metadata": {},
   "outputs": [],
   "source": [
    "importer.write_database()"
   ]
  },
  {
   "cell_type": "markdown",
   "metadata": {},
   "source": [
    "## Load Agribalyse data\n",
    "\n",
    "This notebook uses the ecospold 1 version of Agribalyse, but the SimaPro CSV version should be quite similar, it would just use a different `Importer` class.\n",
    "\n",
    "We only need to give the directory, the `Importer` will find the XML file."
   ]
  },
  {
   "cell_type": "code",
   "execution_count": null,
   "metadata": {},
   "outputs": [],
   "source": [
    "path = \"/Users/cmutel/Documents/LCA Documents/Agribalyse\"\n",
    "ag = SingleOutputEcospold1Importer(path, \"Agribalyse 1.2\")\n",
    "ag.apply_strategies()\n",
    "ag.statistics()"
   ]
  },
  {
   "cell_type": "markdown",
   "metadata": {},
   "source": [
    "This is quite a lot of linking problems. Let's export the unlinked exchanges to a spreadsheet so we can browse them."
   ]
  },
  {
   "cell_type": "code",
   "execution_count": null,
   "metadata": {},
   "outputs": [],
   "source": [
    "ag.write_excel(True)"
   ]
  },
  {
   "cell_type": "markdown",
   "metadata": {},
   "source": [
    "## 1. Fix biosphere names\n",
    "\n",
    "One obvious problem is the names of biosphere flows changed from ecoinvent 2 to ecoinvent 3, **and** SimaPro uses another set of biosphere names and categories.\n",
    "\n",
    "Let's fix the SimaPro-specific problems first."
   ]
  },
  {
   "cell_type": "code",
   "execution_count": null,
   "metadata": {},
   "outputs": [],
   "source": [
    "from bw2io.strategies.simapro import normalize_simapro_biosphere_categories, normalize_simapro_biosphere_names\n",
    "ag.apply_strategy(normalize_simapro_biosphere_categories)\n",
    "ag.apply_strategy(normalize_simapro_biosphere_names)"
   ]
  },
  {
   "cell_type": "markdown",
   "metadata": {},
   "source": [
    "We have modified the source data, but still need to try to link to the biosphere database.\n",
    "\n",
    "Read more about [currying functions](https://docs.python.org/3/library/functools.html#functools.partial) if this is new to you."
   ]
  },
  {
   "cell_type": "code",
   "execution_count": null,
   "metadata": {},
   "outputs": [],
   "source": [
    "from bw2io.strategies import link_iterable_by_fields\n",
    "import functools\n",
    "ag.apply_strategy(functools.partial(link_iterable_by_fields, other=Database(\"biosphere3\"), kind=\"biosphere\"))\n",
    "ag.statistics()"
   ]
  },
  {
   "cell_type": "markdown",
   "metadata": {},
   "source": [
    "That solved 70% of the biosphere flows, but there are still many unmatched flows. Again, we export the full list of unmatched exchanges."
   ]
  },
  {
   "cell_type": "code",
   "execution_count": null,
   "metadata": {},
   "outputs": [],
   "source": [
    "ag.write_excel(True)"
   ]
  },
  {
   "cell_type": "markdown",
   "metadata": {},
   "source": [
    "The remaining unlinked biosphere flows *can't* be linked, because they don't exist in our biosphere database. This isn't the end of the world - we can add these new flows - but it does mean that they won't be assessed by our current LCIA methods.\n",
    "\n",
    "You can search the biosphere database to see what is in the current biosphere database using the search function:"
   ]
  },
  {
   "cell_type": "code",
   "execution_count": null,
   "metadata": {},
   "outputs": [],
   "source": [
    "Database(\"biosphere3\").search(\"nitrogen\")"
   ]
  },
  {
   "cell_type": "markdown",
   "metadata": {},
   "source": [
    "We add these missing biosphere flows. We could add them to the default `biosphere3` database, but it is cleaner to create a new database with just the new flows added for Agribalyse."
   ]
  },
  {
   "cell_type": "code",
   "execution_count": null,
   "metadata": {},
   "outputs": [],
   "source": [
    "Database(\"Agribalyse new biosphere\").register()\n",
    "ag.add_unlinked_flows_to_biosphere_database(\"Agribalyse new biosphere\")"
   ]
  },
  {
   "cell_type": "markdown",
   "metadata": {},
   "source": [
    "We should now have no unlinked biosphere flows:"
   ]
  },
  {
   "cell_type": "code",
   "execution_count": null,
   "metadata": {},
   "outputs": [],
   "source": [
    "ag.statistics()"
   ]
  },
  {
   "cell_type": "markdown",
   "metadata": {},
   "source": [
    "## 2. Fix production exchanges\n",
    "\n",
    "This is a weird one - production exchanges represent the flow produced by an activity, and should have the exact same name (because this is the standard in ecospold 1 - in ecospold 2 there is a difference between activity and product names). \n",
    "\n",
    "Let's look at the data for an unlinked production exchange and its activity. We are trying to figure out which field is different. We pick the first exchange in our spreadsheet."
   ]
  },
  {
   "cell_type": "code",
   "execution_count": null,
   "metadata": {},
   "outputs": [],
   "source": [
    "def get_unlinked(data):\n",
    "    for ds in ag.data:\n",
    "        for exc in ds['exchanges']:\n",
    "            if exc['type'] == 'production' and exc['name'] == 'Alfalfa, conventional, for animal feeding, at farm gate':\n",
    "                return ds, exc\n",
    "            \n",
    "ds, exc = get_unlinked(ag.data)\n",
    "            \n",
    "for field in ('name', 'unit', 'location', 'categories'):\n",
    "    print(field)\n",
    "    print(\"\\tActivity:\", field, ds.get(field))\n",
    "    print(\"\\tProduct:\", field, exc.get(field))    "
   ]
  },
  {
   "cell_type": "markdown",
   "metadata": {},
   "source": [
    "In this case, for whatever reason, the `categories` are different. The solution is to link without using the `categories` field. This strategy is smart - if excluding `categories` led to multiple possible links, it would raise an error instead of linking the (possibly) incorrect activity."
   ]
  },
  {
   "cell_type": "code",
   "execution_count": null,
   "metadata": {},
   "outputs": [],
   "source": [
    "from bw2io.strategies import link_technosphere_based_on_name_unit_location\n",
    "ag.apply_strategy(link_technosphere_based_on_name_unit_location)\n",
    "ag.statistics()"
   ]
  },
  {
   "cell_type": "markdown",
   "metadata": {},
   "source": [
    "Still a few problems. Let's look at one of them:"
   ]
  },
  {
   "cell_type": "code",
   "execution_count": null,
   "metadata": {},
   "outputs": [],
   "source": [
    "def get_unlinked(data):\n",
    "    for ds in ag.data:\n",
    "        for exc in ds['exchanges']:\n",
    "            if exc['type'] == 'production' and not exc.get('input'):\n",
    "                return ds, exc\n",
    "            \n",
    "ds, exc = get_unlinked(ag.data)\n",
    "            \n",
    "for field in ('name', 'unit', 'location', 'categories'):\n",
    "    print(field)\n",
    "    print(\"\\tActivity:\", field, ds.get(field))\n",
    "    print(\"\\tProduct:\", field, exc.get(field))  "
   ]
  },
  {
   "cell_type": "markdown",
   "metadata": {},
   "source": [
    "All the remaining outputs are disposal or recycling processes."
   ]
  },
  {
   "cell_type": "code",
   "execution_count": null,
   "metadata": {},
   "outputs": [],
   "source": [
    "for exc in ag.unlinked:\n",
    "    if exc['type'] == \"production\":\n",
    "        print(exc['name'])"
   ]
  },
  {
   "cell_type": "markdown",
   "metadata": {},
   "source": [
    "The disposal processes are in ecoinvent, but the recycling processes aren't."
   ]
  },
  {
   "cell_type": "code",
   "execution_count": null,
   "metadata": {},
   "outputs": [],
   "source": [
    "Database(\"ecoinvent 2.2\").search(\"Disposal, plastics, mixture\")"
   ]
  },
  {
   "cell_type": "code",
   "execution_count": null,
   "metadata": {},
   "outputs": [],
   "source": [
    "Database(\"ecoinvent 2.2\").search(\"recycling mixed plastics\")"
   ]
  },
  {
   "cell_type": "markdown",
   "metadata": {},
   "source": [
    "We have to be a little careful here. SimaPro considers these exchanges *outputs*, but ecoinvent models disposal as in input (you consume the disposal service). The easiest way to handle this is to simply change these outputs into inputs, which will fix the sign.\n",
    "\n",
    "Note that we can't use `ag.unlinked`, as this only gives each unlinked exchange once, not every time it appears in the original data."
   ]
  },
  {
   "cell_type": "code",
   "execution_count": null,
   "metadata": {},
   "outputs": [],
   "source": [
    "for ds in ag.data:\n",
    "    for exc in ds['exchanges']:\n",
    "        if exc['type'] == 'production' and not exc.get('input'):\n",
    "            print(\"Fixing:\", exc['name'])\n",
    "            exc['type'] = 'technosphere'"
   ]
  },
  {
   "cell_type": "markdown",
   "metadata": {},
   "source": [
    "We will leave the recycling processes alone for now; first, we will fix all the ecoinvent links, including the disposal ones, and then we will get back to recycling.\n",
    "\n",
    "## 3. Fix technosphere inputs\n",
    "\n",
    "Looking at the spreadsheet, you notice that there is no `categories` field for any of the inputs. By default, `categories` is used when linking, so if ecoinvent 2.2 has the `categories` field (it does), then no suitable link will be found.\n",
    "\n",
    "This is a common problem with SimaPro, and we already know have a strategy to handle it already. We will try to fix both the internal links and the links to ecoinvent 2.2."
   ]
  },
  {
   "cell_type": "code",
   "execution_count": null,
   "metadata": {},
   "outputs": [],
   "source": [
    "ag.apply_strategy(link_technosphere_based_on_name_unit_location)\n",
    "ag.apply_strategy(functools.partial(link_technosphere_based_on_name_unit_location, external_db_name=\"ecoinvent 2.2\"))\n",
    "ag.statistics()"
   ]
  },
  {
   "cell_type": "markdown",
   "metadata": {
    "collapsed": true
   },
   "source": [
    "So, that was relatively simple.\n",
    "\n",
    "## 4. Adding recycling processes\n",
    "\n",
    "The recycling processes don't exist, and don't have any impact, so the easiest way to handle these exchanges is to create new activities that produce the recycling flows. Luckily we have a method that does that for us. Note that the new recycling activities will be created in the Agribalyse database."
   ]
  },
  {
   "cell_type": "code",
   "execution_count": null,
   "metadata": {},
   "outputs": [],
   "source": [
    "ag.add_unlinked_activities()\n",
    "ag.statistics()"
   ]
  },
  {
   "cell_type": "markdown",
   "metadata": {},
   "source": [
    "## Write the modified, fully linked database\n",
    "\n",
    "We are finished with the importing process."
   ]
  },
  {
   "cell_type": "code",
   "execution_count": null,
   "metadata": {},
   "outputs": [],
   "source": [
    "ag.write_database()"
   ]
  },
  {
   "cell_type": "markdown",
   "metadata": {},
   "source": [
    "OK, that is not good. The unique identifying codes for the activities come from the source data, which wouldn't be so foolish as to give non-unique identifiers to activities in the same export file, would it? Let's look at the codes."
   ]
  },
  {
   "cell_type": "code",
   "execution_count": null,
   "metadata": {},
   "outputs": [],
   "source": [
    "print(len({ds['code'] for ds in ag.data}), len(ag.data))\n",
    "print({ds['code'] for ds in ag.data})"
   ]
  },
  {
   "cell_type": "markdown",
   "metadata": {},
   "source": [
    "That is not good. 826 activities, and only 265 unique codes. Let's look at the source data:\n",
    "\n",
    "    <dataset number=\"28\" timestamp=\"2015-02-22T17:27:17\" generator=\"SimaPro 8.0.3.14\">\n",
    "    <referenceFunction name=\"Bovine feed,MAT18, at farm gate\">\n",
    "\n",
    "    <dataset number=\"28\" timestamp=\"2014-12-21T14:10:26\" generator=\"SimaPro 8.0.3.14\">\n",
    "    <referenceFunction name=\"Greenhouse, glass walls and roof, plastic tubes\">\n",
    "\n",
    "    <dataset number=\"28\" timestamp=\"2013-09-18T16:53:22\" generator=\"CDT V1.2\">\n",
    "    <referenceFunction name=\"Harrowing, with rotary harrow (standard equipment)\">\n",
    "\n",
    "\n",
    "We need to add unique codes. We have a strategy for this, `set_code_by_activity_hash`, but it won't overwrite codes already present. We can fix that :)"
   ]
  },
  {
   "cell_type": "code",
   "execution_count": null,
   "metadata": {},
   "outputs": [],
   "source": [
    "for ds in ag.data:\n",
    "    del ds['code']"
   ]
  },
  {
   "cell_type": "code",
   "execution_count": null,
   "metadata": {},
   "outputs": [],
   "source": [
    "from bw2io.strategies import set_code_by_activity_hash\n",
    "ag.apply_strategy(set_code_by_activity_hash)"
   ]
  },
  {
   "cell_type": "markdown",
   "metadata": {},
   "source": [
    "Only the internal links will need to be redone - the links to ecoinvent 2.2 and the biosphere database are fine.\n",
    "\n",
    "We can't use `link_technosphere_based_on_name_unit_location`, because we need to pass the parameter `relink`."
   ]
  },
  {
   "cell_type": "code",
   "execution_count": null,
   "metadata": {},
   "outputs": [],
   "source": [
    "ag.apply_strategy(functools.partial(\n",
    "        link_iterable_by_fields,\n",
    "        other=ag.data,\n",
    "        fields=('name', 'location', 'unit'),\n",
    "        relink=True\n",
    "))\n",
    "ag.statistics()"
   ]
  },
  {
   "cell_type": "markdown",
   "metadata": {},
   "source": [
    "## Actually writing the final database\n",
    "\n",
    "We are now ready to try again."
   ]
  },
  {
   "cell_type": "code",
   "execution_count": null,
   "metadata": {},
   "outputs": [],
   "source": [
    "ag.write_database()"
   ]
  },
  {
   "cell_type": "markdown",
   "metadata": {},
   "source": [
    "## Checking the imported datasets\n",
    "\n",
    "We need to do some basic validation to make sure we have meaningful results. Here I just do some basic testing, but you should validate against known scores if you are frequently using this database. The following code is rahter simple and is not a real validation check."
   ]
  },
  {
   "cell_type": "code",
   "execution_count": 5,
   "metadata": {},
   "outputs": [
    {
     "data": {
      "text/plain": [
       "Databases dictionary with 1 object(s):\n",
       "\tbiosphere3"
      ]
     },
     "execution_count": 5,
     "metadata": {},
     "output_type": "execute_result"
    }
   ],
   "source": [
    "databases"
   ]
  },
  {
   "cell_type": "code",
   "execution_count": 7,
   "metadata": {},
   "outputs": [
    {
     "data": {
      "text/plain": [
       "('IPCC 2013 no LT', 'climate change', 'GTP 100a')"
      ]
     },
     "execution_count": 7,
     "metadata": {},
     "output_type": "execute_result"
    }
   ],
   "source": [
    "gwp = [x for x in methods if \"IPCC 2013\" in str(x)][0]\n",
    "gwp"
   ]
  },
  {
   "cell_type": "code",
   "execution_count": 6,
   "metadata": {},
   "outputs": [
    {
     "name": "stderr",
     "output_type": "stream",
     "text": [
      "/Users/paulboosz/.local/share/virtualenvs/wikicarbone-data-3U72AueT/lib/python3.10/site-packages/bw2data/backends/peewee/database.py:127: UserWarning: This database is empty\n",
      "  warnings.warn(\"This database is empty\")\n"
     ]
    },
    {
     "ename": "NameError",
     "evalue": "name 'gwp' is not defined",
     "output_type": "error",
     "traceback": [
      "\u001b[0;31m---------------------------------------------------------------------------\u001b[0m",
      "\u001b[0;31mNameError\u001b[0m                                 Traceback (most recent call last)",
      "Input \u001b[0;32mIn [6]\u001b[0m, in \u001b[0;36m<cell line: 3>\u001b[0;34m()\u001b[0m\n\u001b[1;32m      1\u001b[0m db \u001b[38;5;241m=\u001b[39m Database(\u001b[38;5;124m\"\u001b[39m\u001b[38;5;124mAgribalyse 1.2\u001b[39m\u001b[38;5;124m\"\u001b[39m)\n\u001b[0;32m----> 3\u001b[0m lca \u001b[38;5;241m=\u001b[39m LCA({db\u001b[38;5;241m.\u001b[39mrandom(): \u001b[38;5;241m1\u001b[39m}, \u001b[43mgwp\u001b[49m)\n\u001b[1;32m      4\u001b[0m lca\u001b[38;5;241m.\u001b[39mlci(factorize\u001b[38;5;241m=\u001b[39m\u001b[38;5;28;01mTrue\u001b[39;00m)\n\u001b[1;32m      5\u001b[0m lca\u001b[38;5;241m.\u001b[39mlcia()\n",
      "\u001b[0;31mNameError\u001b[0m: name 'gwp' is not defined"
     ]
    }
   ],
   "source": [
    "db = Database(\"Agribalyse 1.2\")\n",
    "\n",
    "lca = LCA({db.random(): 1}, gwp)\n",
    "lca.lci(factorize=True)\n",
    "lca.lcia()\n",
    "lca.score"
   ]
  },
  {
   "cell_type": "markdown",
   "metadata": {},
   "source": [
    "Let's calculate the LCIA scores of all activities in Agribalyse"
   ]
  },
  {
   "cell_type": "code",
   "execution_count": 8,
   "metadata": {},
   "outputs": [
    {
     "ename": "AssertionError",
     "evalue": "",
     "output_type": "error",
     "traceback": [
      "\u001b[0;31m---------------------------------------------------------------------------\u001b[0m",
      "\u001b[0;31mAssertionError\u001b[0m                            Traceback (most recent call last)",
      "Input \u001b[0;32mIn [8]\u001b[0m, in \u001b[0;36m<cell line: 5>\u001b[0;34m()\u001b[0m\n\u001b[1;32m      1\u001b[0m \u001b[38;5;28;01mimport\u001b[39;00m \u001b[38;5;21;01mpyprind\u001b[39;00m\n\u001b[1;32m      3\u001b[0m scores \u001b[38;5;241m=\u001b[39m []\n\u001b[0;32m----> 5\u001b[0m \u001b[38;5;28;01mfor\u001b[39;00m act \u001b[38;5;129;01min\u001b[39;00m pyprind\u001b[38;5;241m.\u001b[39mprog_bar(db):\n\u001b[1;32m      6\u001b[0m     lca\u001b[38;5;241m.\u001b[39mredo_lcia({act: \u001b[38;5;241m1\u001b[39m})\n\u001b[1;32m      7\u001b[0m     scores\u001b[38;5;241m.\u001b[39mappend(lca\u001b[38;5;241m.\u001b[39mscore)\n",
      "File \u001b[0;32m~/.local/share/virtualenvs/wikicarbone-data-3U72AueT/lib/python3.10/site-packages/pyprind/generator_factory.py:16\u001b[0m, in \u001b[0;36mgenerator_factory.<locals>.generator_progress\u001b[0;34m(iteritem, iterations, *args, **kw)\u001b[0m\n\u001b[1;32m     14\u001b[0m \u001b[38;5;28;01mif\u001b[39;00m iterations \u001b[38;5;129;01mis\u001b[39;00m \u001b[38;5;28;01mNone\u001b[39;00m:\n\u001b[1;32m     15\u001b[0m     iterations \u001b[38;5;241m=\u001b[39m \u001b[38;5;28mlen\u001b[39m(iteritem)\n\u001b[0;32m---> 16\u001b[0m \u001b[38;5;28;01massert\u001b[39;00m iterations\n\u001b[1;32m     17\u001b[0m mbar \u001b[38;5;241m=\u001b[39m mother_class(iterations, \u001b[38;5;241m*\u001b[39margs, \u001b[38;5;241m*\u001b[39m\u001b[38;5;241m*\u001b[39mkw)\n\u001b[1;32m     18\u001b[0m \u001b[38;5;28;01mfor\u001b[39;00m item \u001b[38;5;129;01min\u001b[39;00m iteritem:\n",
      "\u001b[0;31mAssertionError\u001b[0m: "
     ]
    }
   ],
   "source": [
    "import pyprind\n",
    "\n",
    "scores = []\n",
    "\n",
    "for act in pyprind.prog_bar(db):\n",
    "    lca.redo_lcia({act: 1})\n",
    "    scores.append(lca.score)"
   ]
  },
  {
   "cell_type": "code",
   "execution_count": null,
   "metadata": {},
   "outputs": [],
   "source": [
    "import numpy as np\n",
    "\n",
    "scores = np.array(scores)\n",
    "mask = scores == 0\n",
    "print(mask.sum(), len(db))\n",
    "\n",
    "scores = scores[~mask]"
   ]
  },
  {
   "cell_type": "code",
   "execution_count": null,
   "metadata": {},
   "outputs": [],
   "source": [
    "%matplotlib notebook"
   ]
  },
  {
   "cell_type": "code",
   "execution_count": null,
   "metadata": {},
   "outputs": [],
   "source": [
    "import seaborn as sns"
   ]
  },
  {
   "cell_type": "code",
   "execution_count": null,
   "metadata": {},
   "outputs": [],
   "source": [
    "sns.distplot(scores)"
   ]
  },
  {
   "cell_type": "markdown",
   "metadata": {},
   "source": [
    "## Conclusion\n",
    "\n",
    "We have imported the Agribalyse database. In the process of importing, we found and resolved several problems:\n",
    "\n",
    "1. First, we had to fix the names and categories of biosphere flow names, to make them compatible with the names and categories used in ecoinvent version 3.\n",
    "2. Next, we created a new database for the new biosphere flows that we couldn't match.\n",
    "3. We linked production flows to the activities that produced them, using a strategy that didn't use the field `categories`, as this field is not given consistently in SimaPro exports.\n",
    "4. We switched some outputs to inputs, to be consistent with how ecoinvent models disposal and recycling processes.\n",
    "5. We linked inputs to activities in ecoinvent 2.2, again ignoring the field `categories`, because SimaPro.\n",
    "6. We created new processes to provide recycling services.\n",
    "7. We deleted the unique identifying codes used by SimaPro, as they were not actually unique, and created our own codes.\n",
    "\n",
    "This was a bit of a pain, but compared to other database exports, was actually not all that difficult. This is the sad truth of LCA data compatibility - it currently isn't all that great."
   ]
  }
 ],
 "metadata": {
  "kernelspec": {
   "display_name": "Python 3 (ipykernel)",
   "language": "python",
   "name": "python3"
  },
  "language_info": {
   "codemirror_mode": {
    "name": "ipython",
    "version": 3
   },
   "file_extension": ".py",
   "mimetype": "text/x-python",
   "name": "python",
   "nbconvert_exporter": "python",
   "pygments_lexer": "ipython3",
   "version": "3.10.0"
  }
 },
 "nbformat": 4,
 "nbformat_minor": 1
}
