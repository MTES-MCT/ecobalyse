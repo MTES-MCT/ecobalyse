{
 "cells": [
  {
   "cell_type": "markdown",
   "source": [
    "# Importing Agribalyse 3.1\n",
    "This notebook shows how to import the Agribalyse 3.1 database in Brightway.\n",
    "\n",
    "Agribalyse 3.1 has been developed by ADEME. It can be found in Brightway format [here]() and more information can be found [here](https://doc.agribalyse.fr/documentation-en/).\n",
    "\n",
    "_Gustave Coste - SustainCERT - 2022_\n",
    "\n",
    "---------"
   ],
   "metadata": {
    "collapsed": false
   }
  },
  {
   "cell_type": "markdown",
   "source": [
    "## Importing the database\n",
    "\n",
    "Creating a new project"
   ],
   "metadata": {
    "collapsed": false
   }
  },
  {
   "cell_type": "code",
   "execution_count": 1,
   "outputs": [
    {
     "name": "stdout",
     "output_type": "stream",
     "text": [
      "Creating default biosphere\n",
      "\n",
      "Applying strategy: normalize_units\n",
      "Applying strategy: drop_unspecified_subcategories\n",
      "Applying strategy: ensure_categories_are_tuples\n",
      "Applied 3 strategies in 0.00 seconds\n"
     ]
    },
    {
     "name": "stderr",
     "output_type": "stream",
     "text": [
      "Writing activities to SQLite3 database:\n",
      "0% [##############################] 100% | ETA: 00:00:00\n",
      "Total time elapsed: 00:00:00\n"
     ]
    },
    {
     "name": "stdout",
     "output_type": "stream",
     "text": [
      "Title: Writing activities to SQLite3 database:\n",
      "  Started: 09/26/2022 17:53:10\n",
      "  Finished: 09/26/2022 17:53:11\n",
      "  Total time elapsed: 00:00:00\n",
      "  CPU %: 99.90\n",
      "  Memory %: 1.17\n",
      "Created database: biosphere3\n",
      "Creating default LCIA methods\n",
      "\n",
      "Applying strategy: normalize_units\n",
      "Applying strategy: set_biosphere_type\n",
      "Applying strategy: fix_ecoinvent_38_lcia_implementation\n",
      "Applying strategy: drop_unspecified_subcategories\n",
      "Applying strategy: link_iterable_by_fields\n",
      "Applied 5 strategies in 1.18 seconds\n",
      "Wrote 975 LCIA methods with 254388 characterization factors\n",
      "Creating core data migrations\n",
      "\n"
     ]
    }
   ],
   "source": [
    "import brightway2 as bw\n",
    "\n",
    "bw.projects.set_current('Importing agribalyse3.1')\n",
    "bw.bw2setup()"
   ],
   "metadata": {
    "collapsed": false
   }
  },
  {
   "cell_type": "markdown",
   "source": [
    "Importing the database"
   ],
   "metadata": {
    "collapsed": false
   }
  },
  {
   "cell_type": "code",
   "execution_count": 2,
   "metadata": {
    "collapsed": true
   },
   "outputs": [
    {
     "name": "stderr",
     "output_type": "stream",
     "text": [
      "Writing activities to SQLite3 database:\n",
      "0% [##############################] 100% | ETA: 00:00:00\n",
      "Total time elapsed: 00:00:00\n"
     ]
    },
    {
     "name": "stdout",
     "output_type": "stream",
     "text": [
      "Title: Writing activities to SQLite3 database:\n",
      "  Started: 09/26/2022 18:03:56\n",
      "  Finished: 09/26/2022 18:03:56\n",
      "  Total time elapsed: 00:00:00\n",
      "  CPU %: 66.50\n",
      "  Memory %: 62.33\n"
     ]
    },
    {
     "name": "stderr",
     "output_type": "stream",
     "text": [
      "Writing activities to SQLite3 database:\n",
      "0% [##############################] 100% | ETA: 00:00:00\n",
      "Total time elapsed: 00:14:55\n"
     ]
    },
    {
     "name": "stdout",
     "output_type": "stream",
     "text": [
      "Title: Writing activities to SQLite3 database:\n",
      "  Started: 09/26/2022 18:04:03\n",
      "  Finished: 09/26/2022 18:18:59\n",
      "  Total time elapsed: 00:14:55\n",
      "  CPU %: 35.10\n",
      "  Memory %: 65.25\n"
     ]
    },
    {
     "data": {
      "text/plain": "[Brightway2 SQLiteBackend: agribalyse3.1 biosphere flows,\n Brightway2 SQLiteBackend: agribalyse3.1]"
     },
     "execution_count": 2,
     "metadata": {},
     "output_type": "execute_result"
    }
   ],
   "source": [
    "import os\n",
    "bw.BW2Package.import_file(os.path.join(os.path.realpath(''), 'data', 'AGB31.bw2package'))"
   ]
  },
  {
   "cell_type": "code",
   "execution_count": 3,
   "outputs": [
    {
     "data": {
      "text/plain": "Databases dictionary with 3 object(s):\n\tagribalyse3.1\n\tagribalyse3.1 biosphere flows\n\tbiosphere3"
     },
     "execution_count": 3,
     "metadata": {},
     "output_type": "execute_result"
    }
   ],
   "source": [
    "bw.databases"
   ],
   "metadata": {
    "collapsed": false
   }
  },
  {
   "cell_type": "markdown",
   "source": [
    "Two databases have been imported:\n",
    "- `agribalyse3.1 biosphere flows` contains biosphere flows that are used by `agribalyse3.1` and that are not present in `biosphere3`, brightway's default biosphere database.\n",
    "- `agribalyse3.1` contains the activities with references to biosphere flows from `agribalyse3.1 biosphere flows` and `biosphere3`"
   ],
   "metadata": {
    "collapsed": false
   }
  },
  {
   "cell_type": "code",
   "execution_count": 4,
   "outputs": [
    {
     "data": {
      "text/plain": "1883"
     },
     "execution_count": 4,
     "metadata": {},
     "output_type": "execute_result"
    }
   ],
   "source": [
    "len(bw.Database('agribalyse3.1 biosphere flows'))"
   ],
   "metadata": {
    "collapsed": false
   }
  },
  {
   "cell_type": "code",
   "execution_count": 5,
   "outputs": [
    {
     "data": {
      "text/plain": "18600"
     },
     "execution_count": 5,
     "metadata": {},
     "output_type": "execute_result"
    }
   ],
   "source": [
    "len(bw.Database('agribalyse3.1'))"
   ],
   "metadata": {
    "collapsed": false
   }
  },
  {
   "cell_type": "markdown",
   "source": [
    "## Exploring the data"
   ],
   "metadata": {
    "collapsed": false
   }
  },
  {
   "cell_type": "code",
   "execution_count": 6,
   "outputs": [],
   "source": [
    "agb = bw.Database('agribalyse3.1')"
   ],
   "metadata": {
    "collapsed": false
   }
  },
  {
   "cell_type": "markdown",
   "source": [
    "__Warning:__ Agribalyse 3.1 uses elementary flows that does not exist in Brightway's default biosphere database `biosphere3`. Thus, the default LCIA methods will not take into account all the elementary flows. To fix this, ensure the LCIA method you use has characterization factors for the elementary flows in `agribalyse3.1 biosphere flows`."
   ],
   "metadata": {
    "collapsed": false
   }
  },
  {
   "cell_type": "code",
   "execution_count": 7,
   "outputs": [
    {
     "data": {
      "text/plain": "[('agribalyse3.1 biosphere flows', 'Copper sulfate'),\n ('agribalyse3.1 biosphere flows', 'Copper sulfate'),\n ('agribalyse3.1 biosphere flows', 'Copper sulfate'),\n ('agribalyse3.1 biosphere flows', 'Copper sulfate'),\n ('agribalyse3.1 biosphere flows', 'Spinosad'),\n ('agribalyse3.1 biosphere flows', 'Spinosad'),\n ('biosphere3', 'Ammonia'),\n ('biosphere3', 'Dinitrogen monoxide'),\n ('biosphere3', 'Dinitrogen monoxide'),\n ('biosphere3', 'Nitrogen oxides'),\n ('biosphere3', 'Spinosad'),\n ('biosphere3', 'Spinosad'),\n ('biosphere3', 'Water, river')]"
     },
     "execution_count": 7,
     "metadata": {},
     "output_type": "execute_result"
    }
   ],
   "source": [
    "act = next(x for x in agb if any(exchange for exchange in x.biosphere() if exchange.input['database'] == 'agribalyse3.1 biosphere flows'))\n",
    "sorted([(x.input['database'], x.input['name']) for x in act.biosphere()])"
   ],
   "metadata": {
    "collapsed": false
   }
  },
  {
   "cell_type": "markdown",
   "source": [
    "Some activities contained in `agribalyse3.1` have special metadata."
   ],
   "metadata": {
    "collapsed": false
   }
  },
  {
   "cell_type": "code",
   "execution_count": 8,
   "outputs": [
    {
     "name": "stdout",
     "output_type": "stream",
     "text": [
      "{'Category type': 'material',\n",
      " 'Comment': 'Inventory of AGRIBALYSE v3.1, 2022 (update to v3.1 in August 2022 '\n",
      "            'by EVEA S.A.S Coopérative). See the complete description of '\n",
      "            'AGRIBALYSE database.The overall DQR of this product is: 3.75 {P: '\n",
      "            '4.87, TiR: 3.65, GR: 2.9, TeR: 3.6}',\n",
      " 'DQR': {'GR': 2.9, 'P': 4.87, 'TeR': 3.6, 'TiR': 3.65, 'overall': 3.75},\n",
      " 'Date': '15/04/2020',\n",
      " 'Infrastructure': 'No',\n",
      " 'Process identifier': 'Training000020187015521',\n",
      " 'Status': 'Finished',\n",
      " 'System description': 'AGRIBALYSE',\n",
      " 'Type': 'Unit process',\n",
      " 'ciqual_code': '20917',\n",
      " 'code': '53355e06032837b0f7bebafa1fa8f732',\n",
      " 'database': 'agribalyse3.1',\n",
      " 'name': 'Tempeh, processed in FR | Ambient (long) | PP | No preparation | at '\n",
      "         'consumer/FR [Ciqual code: 20917]',\n",
      " 'packaging': 'PP',\n",
      " 'preparation_mode': 'No preparation',\n",
      " 'production amount': 1.0,\n",
      " 'reference product': 'Tempeh, processed in FR | Ambient (long) | PP | No '\n",
      "                      'preparation | at consumer/FR [Ciqual code: 20917]',\n",
      " 'stage': 'at consumer',\n",
      " 'transport_type': 'Ambient (long)',\n",
      " 'type': 'process',\n",
      " 'unit': 'kilogram'}\n"
     ]
    }
   ],
   "source": [
    "from pprint import pprint\n",
    "\n",
    "act = next(x for x in agb if 'ciqual_code' in x)\n",
    "pprint(act.as_dict())"
   ],
   "metadata": {
    "collapsed": false
   }
  },
  {
   "cell_type": "markdown",
   "source": [
    "Visualizing the distribution of Data Quality Ratings (DQR)"
   ],
   "metadata": {
    "collapsed": false
   }
  },
  {
   "cell_type": "code",
   "execution_count": 9,
   "outputs": [
    {
     "data": {
      "text/plain": "<seaborn.axisgrid.FacetGrid at 0x26837e80a00>"
     },
     "execution_count": 9,
     "metadata": {},
     "output_type": "execute_result"
    },
    {
     "data": {
      "text/plain": "<Figure size 500x500 with 1 Axes>",
      "image/png": "[encoded data removed]"
     },
     "metadata": {},
     "output_type": "display_data"
    }
   ],
   "source": [
    "import pandas as pd\n",
    "import seaborn as sns\n",
    "\n",
    "sns.set()\n",
    "\n",
    "df = pd.DataFrame([(k,  float(v)) for x in agb if 'DQR' in x for k, v in x['DQR'].items()])\n",
    "\n",
    "sns.catplot(data=df, x=0, y=1, kind=\"violin\")"
   ],
   "metadata": {
    "collapsed": false
   }
  }
 ],
 "metadata": {
  "kernelspec": {
   "display_name": "Python 3",
   "language": "python",
   "name": "python3"
  },
  "language_info": {
   "codemirror_mode": {
    "name": "ipython",
    "version": 2
   },
   "file_extension": ".py",
   "mimetype": "text/x-python",
   "name": "python",
   "nbconvert_exporter": "python",
   "pygments_lexer": "ipython2",
   "version": "2.7.6"
  }
 },
 "nbformat": 4,
 "nbformat_minor": 0
}